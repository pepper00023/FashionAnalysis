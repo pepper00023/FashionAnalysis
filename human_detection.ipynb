{
  "nbformat": 4,
  "nbformat_minor": 0,
  "metadata": {
    "accelerator": "GPU",
    "colab": {
      "name": "human_detection.ipynb",
      "provenance": [],
      "collapsed_sections": []
    },
    "kernelspec": {
      "display_name": "Python 3",
      "language": "python",
      "name": "python3"
    },
    "language_info": {
      "codemirror_mode": {
        "name": "ipython",
        "version": 3
      },
      "file_extension": ".py",
      "mimetype": "text/x-python",
      "name": "python",
      "nbconvert_exporter": "python",
      "pygments_lexer": "ipython3",
      "version": "3.5.2"
    }
  },
  "cells": [
    {
      "cell_type": "markdown",
      "metadata": {
        "id": "9uWeAn9vYPBm"
      },
      "source": [
        "# Mask R-CNN Demo\n",
        "\n",
        "A quick intro to using the pre-trained model to detect and segment objects."
      ]
    },
    {
      "cell_type": "code",
      "metadata": {
        "colab": {
          "base_uri": "https://localhost:8080/"
        },
        "id": "4SscUfv1-A8b",
        "outputId": "59a3f951-fcfc-43b4-b6ef-11a4ac4dc497"
      },
      "source": [
        "%tensorflow_version 1.x\n",
        "#!pip install tensorflow==1.15\n",
        "import tensorflow as tf\n",
        "print(tf.__version__)\n",
        "\n",
        "#!pip install 'keras==2.1.6' --force-reinstall\n",
        "#!pip install scipy==1.2.1"
      ],
      "execution_count": null,
      "outputs": [
        {
          "output_type": "stream",
          "name": "stdout",
          "text": [
            "TensorFlow 1.x selected.\n",
            "1.15.2\n"
          ]
        }
      ]
    },
    {
      "cell_type": "code",
      "metadata": {
        "colab": {
          "base_uri": "https://localhost:8080/"
        },
        "id": "5U7NYKCoYQBQ",
        "outputId": "8d5934ae-31ab-431c-a0c6-18b96affe9ef"
      },
      "source": [
        "device_name = tf.test.gpu_device_name()\n",
        "if device_name != '/device:GPU:0':\n",
        "  raise SystemError('GPU device not found')\n",
        "print('Found GPU at: {}'.format(device_name))"
      ],
      "execution_count": null,
      "outputs": [
        {
          "output_type": "stream",
          "name": "stdout",
          "text": [
            "Found GPU at: /device:GPU:0\n"
          ]
        }
      ]
    },
    {
      "cell_type": "code",
      "metadata": {
        "colab": {
          "base_uri": "https://localhost:8080/"
        },
        "id": "9xzUNBxKYZSK",
        "outputId": "9e62c445-d608-4ce6-e205-000114505ff6"
      },
      "source": [
        "#!pip install Cython\n",
        "# !git clone https://github.com/cocodataset/cocoapi.git\n",
        "# !pip install -U setuptools\n",
        "# !pip install -U wheel\n",
        "# !make install -C cocoapi/PythonAPI\n",
        "!git clone https://github.com/pepper00023/mask_rcnn.git mask_rcnn"
      ],
      "execution_count": null,
      "outputs": [
        {
          "output_type": "stream",
          "name": "stdout",
          "text": [
            "fatal: destination path 'mask_rcnn' already exists and is not an empty directory.\n"
          ]
        }
      ]
    },
    {
      "cell_type": "code",
      "metadata": {
        "id": "fv-aQp9XYbuR"
      },
      "source": [
        "import os\n",
        "os.getcwd()\n",
        "os.chdir('mask_rcnn')\n"
      ],
      "execution_count": null,
      "outputs": []
    },
    {
      "cell_type": "code",
      "metadata": {
        "colab": {
          "base_uri": "https://localhost:8080/"
        },
        "id": "cO7gNZO9ZWt6",
        "outputId": "faec65fa-fcc4-4844-fe30-fb61ba245ad5"
      },
      "source": [
        "!ls"
      ],
      "execution_count": null,
      "outputs": [
        {
          "output_type": "stream",
          "name": "stdout",
          "text": [
            "assets\t    harajuku_f\tLICENSE      mrcnn\trequirements.txt  setup.cfg\n",
            "demo.ipynb  images\tMANIFEST.in  README.md\tsamples\t\t  setup.py\n"
          ]
        }
      ]
    },
    {
      "cell_type": "code",
      "metadata": {
        "colab": {
          "base_uri": "https://localhost:8080/"
        },
        "id": "5E034joMYPBu",
        "outputId": "a4d6475f-f646-4d50-99aa-c600f8978f97"
      },
      "source": [
        "import os\n",
        "import sys\n",
        "import random\n",
        "import math\n",
        "import numpy as np\n",
        "import skimage.io\n",
        "import matplotlib\n",
        "import matplotlib.pyplot as plt\n",
        "\n",
        "# Root directory of the project\n",
        "ROOT_DIR = os.path.abspath(\"../\")\n",
        "\n",
        "# Import Mask RCNN\n",
        "sys.path.append(ROOT_DIR)  # To find local version of the library\n",
        "from mrcnn import utils\n",
        "import mrcnn.model as modellib\n",
        "from mrcnn import visualize\n",
        "# Import COCO config\n",
        "#sys.path.append(os.path.join(ROOT_DIR, \"samples/coco/\"))  # To find local version\n",
        "#import coco\n",
        "from mrcnn import coco\n",
        "\n",
        "%matplotlib inline \n",
        "\n",
        "# Directory to save logs and trained model\n",
        "MODEL_DIR = os.path.join(ROOT_DIR, \"logs\")\n",
        "\n",
        "# Local path to trained weights file\n",
        "COCO_MODEL_PATH = os.path.join(ROOT_DIR, \"mask_rcnn_coco.h5\")\n",
        "# Download COCO trained weights from Releases if needed\n",
        "if not os.path.exists(COCO_MODEL_PATH):\n",
        "    utils.download_trained_weights(COCO_MODEL_PATH)\n",
        "\n",
        "# Directory of images to run detection on\n",
        "IMAGE_DIR = os.path.join(ROOT_DIR, \"mask_rcnn/images\")"
      ],
      "execution_count": null,
      "outputs": [
        {
          "output_type": "stream",
          "name": "stderr",
          "text": [
            "Using TensorFlow backend.\n"
          ]
        }
      ]
    },
    {
      "cell_type": "markdown",
      "metadata": {
        "id": "o-pxhg5VYPBx"
      },
      "source": [
        "## Configurations\n",
        "\n",
        "We'll be using a model trained on the MS-COCO dataset. The configurations of this model are in the ```CocoConfig``` class in ```coco.py```.\n",
        "\n",
        "For inferencing, modify the configurations a bit to fit the task. To do so, sub-class the ```CocoConfig``` class and override the attributes you need to change."
      ]
    },
    {
      "cell_type": "code",
      "metadata": {
        "colab": {
          "base_uri": "https://localhost:8080/"
        },
        "id": "jxpOOvodYPBy",
        "outputId": "70273c94-d3af-4164-82a2-0214f63d57e1"
      },
      "source": [
        "class InferenceConfig(coco.CocoConfig):\n",
        "    # Set batch size to 1 since we'll be running inference on\n",
        "    # one image at a time. Batch size = GPU_COUNT * IMAGES_PER_GPU\n",
        "    GPU_COUNT = 1\n",
        "    IMAGES_PER_GPU = 1\n",
        "\n",
        "config = InferenceConfig()\n",
        "config.display()"
      ],
      "execution_count": null,
      "outputs": [
        {
          "output_type": "stream",
          "name": "stdout",
          "text": [
            "\n",
            "Configurations:\n",
            "BACKBONE                       resnet101\n",
            "BACKBONE_STRIDES               [4, 8, 16, 32, 64]\n",
            "BATCH_SIZE                     1\n",
            "BBOX_STD_DEV                   [0.1 0.1 0.2 0.2]\n",
            "COMPUTE_BACKBONE_SHAPE         None\n",
            "DETECTION_MAX_INSTANCES        100\n",
            "DETECTION_MIN_CONFIDENCE       0.7\n",
            "DETECTION_NMS_THRESHOLD        0.3\n",
            "FPN_CLASSIF_FC_LAYERS_SIZE     1024\n",
            "GPU_COUNT                      1\n",
            "GRADIENT_CLIP_NORM             5.0\n",
            "IMAGES_PER_GPU                 1\n",
            "IMAGE_CHANNEL_COUNT            3\n",
            "IMAGE_MAX_DIM                  1024\n",
            "IMAGE_META_SIZE                93\n",
            "IMAGE_MIN_DIM                  800\n",
            "IMAGE_MIN_SCALE                0\n",
            "IMAGE_RESIZE_MODE              square\n",
            "IMAGE_SHAPE                    [1024 1024    3]\n",
            "LEARNING_MOMENTUM              0.9\n",
            "LEARNING_RATE                  0.001\n",
            "LOSS_WEIGHTS                   {'rpn_class_loss': 1.0, 'rpn_bbox_loss': 1.0, 'mrcnn_class_loss': 1.0, 'mrcnn_bbox_loss': 1.0, 'mrcnn_mask_loss': 1.0}\n",
            "MASK_POOL_SIZE                 14\n",
            "MASK_SHAPE                     [28, 28]\n",
            "MAX_GT_INSTANCES               100\n",
            "MEAN_PIXEL                     [123.7 116.8 103.9]\n",
            "MINI_MASK_SHAPE                (56, 56)\n",
            "NAME                           coco\n",
            "NUM_CLASSES                    81\n",
            "POOL_SIZE                      7\n",
            "POST_NMS_ROIS_INFERENCE        1000\n",
            "POST_NMS_ROIS_TRAINING         2000\n",
            "PRE_NMS_LIMIT                  6000\n",
            "ROI_POSITIVE_RATIO             0.33\n",
            "RPN_ANCHOR_RATIOS              [0.5, 1, 2]\n",
            "RPN_ANCHOR_SCALES              (32, 64, 128, 256, 512)\n",
            "RPN_ANCHOR_STRIDE              1\n",
            "RPN_BBOX_STD_DEV               [0.1 0.1 0.2 0.2]\n",
            "RPN_NMS_THRESHOLD              0.7\n",
            "RPN_TRAIN_ANCHORS_PER_IMAGE    256\n",
            "STEPS_PER_EPOCH                1000\n",
            "TOP_DOWN_PYRAMID_SIZE          256\n",
            "TRAIN_BN                       False\n",
            "TRAIN_ROIS_PER_IMAGE           200\n",
            "USE_MINI_MASK                  True\n",
            "USE_RPN_ROIS                   True\n",
            "VALIDATION_STEPS               50\n",
            "WEIGHT_DECAY                   0.0001\n",
            "\n",
            "\n"
          ]
        }
      ]
    },
    {
      "cell_type": "markdown",
      "metadata": {
        "id": "HyeiVtNwYPBz"
      },
      "source": [
        "## Create Model and Load Trained Weights"
      ]
    },
    {
      "cell_type": "code",
      "metadata": {
        "colab": {
          "base_uri": "https://localhost:8080/"
        },
        "collapsed": true,
        "id": "h_DH_dhzYPBz",
        "scrolled": false,
        "outputId": "bf46cddc-98c9-4067-9979-cc61d1a4b452"
      },
      "source": [
        "# Create model object in inference mode.\n",
        "model = modellib.MaskRCNN(mode=\"inference\", model_dir=MODEL_DIR, config=config)\n",
        "\n",
        "# Load weights trained on MS-COCO\n",
        "model.load_weights(COCO_MODEL_PATH, by_name=True)"
      ],
      "execution_count": null,
      "outputs": [
        {
          "output_type": "stream",
          "name": "stdout",
          "text": [
            "WARNING:tensorflow:From /tensorflow-1.15.2/python3.7/tensorflow_core/python/ops/resource_variable_ops.py:1630: calling BaseResourceVariable.__init__ (from tensorflow.python.ops.resource_variable_ops) with constraint is deprecated and will be removed in a future version.\n",
            "Instructions for updating:\n",
            "If using Keras pass *_constraint arguments to layers.\n",
            "WARNING:tensorflow:From /tensorflow-1.15.2/python3.7/keras/backend/tensorflow_backend.py:4070: The name tf.nn.max_pool is deprecated. Please use tf.nn.max_pool2d instead.\n",
            "\n",
            "WARNING:tensorflow:From /content/mask_rcnn/mrcnn/model.py:341: The name tf.log is deprecated. Please use tf.math.log instead.\n",
            "\n",
            "WARNING:tensorflow:From /content/mask_rcnn/mrcnn/model.py:399: where (from tensorflow.python.ops.array_ops) is deprecated and will be removed in a future version.\n",
            "Instructions for updating:\n",
            "Use tf.where in 2.0, which has the same broadcast rule as np.where\n",
            "WARNING:tensorflow:From /content/mask_rcnn/mrcnn/model.py:423: calling crop_and_resize_v1 (from tensorflow.python.ops.image_ops_impl) with box_ind is deprecated and will be removed in a future version.\n",
            "Instructions for updating:\n",
            "box_ind is deprecated, use box_indices instead\n",
            "WARNING:tensorflow:From /content/mask_rcnn/mrcnn/model.py:720: The name tf.sets.set_intersection is deprecated. Please use tf.sets.intersection instead.\n",
            "\n",
            "WARNING:tensorflow:From /content/mask_rcnn/mrcnn/model.py:722: The name tf.sparse_tensor_to_dense is deprecated. Please use tf.sparse.to_dense instead.\n",
            "\n",
            "WARNING:tensorflow:From /content/mask_rcnn/mrcnn/model.py:772: to_float (from tensorflow.python.ops.math_ops) is deprecated and will be removed in a future version.\n",
            "Instructions for updating:\n",
            "Use `tf.cast` instead.\n"
          ]
        }
      ]
    },
    {
      "cell_type": "markdown",
      "metadata": {
        "id": "GkI8fiNQYPB0"
      },
      "source": [
        "## Class Names\n",
        "\n",
        "The model classifies objects and returns class IDs, which are integer value that identify each class. Some datasets assign integer values to their classes and some don't. For example, in the MS-COCO dataset, the 'person' class is 1 and 'teddy bear' is 88. The IDs are often sequential, but not always. The COCO dataset, for example, has classes associated with class IDs 70 and 72, but not 71.\n",
        "\n",
        "To improve consistency, and to support training on data from multiple sources at the same time, our ```Dataset``` class assigns it's own sequential integer IDs to each class. For example, if you load the COCO dataset using our ```Dataset``` class, the 'person' class would get class ID = 1 (just like COCO) and the 'teddy bear' class is 78 (different from COCO). Keep that in mind when mapping class IDs to class names.\n",
        "\n",
        "To get the list of class names, you'd load the dataset and then use the ```class_names``` property like this.\n",
        "```\n",
        "# Load COCO dataset\n",
        "dataset = coco.CocoDataset()\n",
        "dataset.load_coco(COCO_DIR, \"train\")\n",
        "dataset.prepare()\n",
        "\n",
        "# Print class names\n",
        "print(dataset.class_names)\n",
        "```\n",
        "\n",
        "We don't want to require you to download the COCO dataset just to run this demo, so we're including the list of class names below. The index of the class name in the list represent its ID (first class is 0, second is 1, third is 2, ...etc.)"
      ]
    },
    {
      "cell_type": "code",
      "metadata": {
        "collapsed": true,
        "id": "BogYItwbYPB0"
      },
      "source": [
        "# COCO Class names\n",
        "# Index of the class in the list is its ID. For example, to get ID of\n",
        "# the teddy bear class, use: class_names.index('teddy bear')\n",
        "class_names = ['BG', 'person', 'bicycle', 'car', 'motorcycle', 'airplane',\n",
        "               'bus', 'train', 'truck', 'boat', 'traffic light',\n",
        "               'fire hydrant', 'stop sign', 'parking meter', 'bench', 'bird',\n",
        "               'cat', 'dog', 'horse', 'sheep', 'cow', 'elephant', 'bear',\n",
        "               'zebra', 'giraffe', 'backpack', 'umbrella', 'handbag', 'tie',\n",
        "               'suitcase', 'frisbee', 'skis', 'snowboard', 'sports ball',\n",
        "               'kite', 'baseball bat', 'baseball glove', 'skateboard',\n",
        "               'surfboard', 'tennis racket', 'bottle', 'wine glass', 'cup',\n",
        "               'fork', 'knife', 'spoon', 'bowl', 'banana', 'apple',\n",
        "               'sandwich', 'orange', 'broccoli', 'carrot', 'hot dog', 'pizza',\n",
        "               'donut', 'cake', 'chair', 'couch', 'potted plant', 'bed',\n",
        "               'dining table', 'toilet', 'tv', 'laptop', 'mouse', 'remote',\n",
        "               'keyboard', 'cell phone', 'microwave', 'oven', 'toaster',\n",
        "               'sink', 'refrigerator', 'book', 'clock', 'vase', 'scissors',\n",
        "               'teddy bear', 'hair drier', 'toothbrush']"
      ],
      "execution_count": null,
      "outputs": []
    },
    {
      "cell_type": "markdown",
      "metadata": {
        "id": "kCI_wHhZYPB1"
      },
      "source": [
        "## Run Object Detection"
      ]
    },
    {
      "cell_type": "code",
      "metadata": {
        "id": "nHgOibSm1NiR",
        "colab": {
          "base_uri": "https://localhost:8080/"
        },
        "outputId": "c7be712a-0acc-4ae5-8f06-ebb7962a2abd"
      },
      "source": [
        "from google.colab import drive\n",
        "drive.mount('/content/gdrive')"
      ],
      "execution_count": null,
      "outputs": [
        {
          "output_type": "stream",
          "name": "stdout",
          "text": [
            "Mounted at /content/gdrive\n"
          ]
        }
      ]
    },
    {
      "cell_type": "code",
      "metadata": {
        "id": "J6LrHU-QBYl7",
        "colab": {
          "base_uri": "https://localhost:8080/"
        },
        "outputId": "bab45e37-97ce-42fd-ecb5-1aea7c147c5a"
      },
      "source": [
        "cd .."
      ],
      "execution_count": null,
      "outputs": [
        {
          "output_type": "stream",
          "name": "stdout",
          "text": [
            "/content\n"
          ]
        }
      ]
    },
    {
      "cell_type": "code",
      "metadata": {
        "id": "cbNCAfzh12dd",
        "colab": {
          "base_uri": "https://localhost:8080/"
        },
        "outputId": "ec095406-4b99-40fa-fffa-74bbea2c33b8"
      },
      "source": [
        "ls gdrive/MyDrive/NewThesis_Poonyawat_Woottisart/Dataset/european-street-fashion/"
      ],
      "execution_count": null,
      "outputs": [
        {
          "output_type": "stream",
          "name": "stdout",
          "text": [
            "euro0.jpg    euro175.jpg  euro24.jpg   euro321.jpg  euro393.jpg\n",
            "euro101.jpg  euro176.jpg  euro250.jpg  euro322.jpg  euro394.jpg\n",
            "euro102.jpg  euro177.jpg  euro251.jpg  euro323.jpg  euro395.jpg\n",
            "euro103.jpg  euro178.jpg  euro252.jpg  euro324.jpg  euro396.jpg\n",
            "euro104.jpg  euro179.jpg  euro253.jpg  euro325.jpg  euro397.jpg\n",
            "euro105.jpg  euro180.jpg  euro254.jpg  euro326.jpg  euro398.jpg\n",
            "euro106.jpg  euro181.jpg  euro255.jpg  euro327.jpg  euro399.jpg\n",
            "euro107.jpg  euro182.jpg  euro256.jpg  euro328.jpg  euro39.jpg\n",
            "euro108.jpg  euro183.jpg  euro257.jpg  euro329.jpg  euro3.jpg\n",
            "euro109.jpg  euro184.jpg  euro258.jpg  euro32.jpg   euro40.jpg\n",
            "euro10.jpg   euro185.jpg  euro259.jpg  euro330.jpg  euro41.jpg\n",
            "euro110.jpg  euro186.jpg  euro25.jpg   euro331.jpg  euro42.jpg\n",
            "euro111.jpg  euro187.jpg  euro260.jpg  euro332.jpg  euro43.jpg\n",
            "euro112.jpg  euro188.jpg  euro261.jpg  euro333.jpg  euro44.jpg\n",
            "euro113.jpg  euro189.jpg  euro262.jpg  euro334.jpg  euro45.jpg\n",
            "euro114.jpg  euro18.jpg   euro263.jpg  euro335.jpg  euro46.jpg\n",
            "euro115.jpg  euro190.jpg  euro264.jpg  euro336.jpg  euro47.jpg\n",
            "euro116.jpg  euro191.jpg  euro265.jpg  euro337.jpg  euro48.jpg\n",
            "euro117.jpg  euro192.jpg  euro266.jpg  euro338.jpg  euro49.jpg\n",
            "euro118.jpg  euro193.jpg  euro267.jpg  euro339.jpg  euro4.jpg\n",
            "euro119.jpg  euro194.jpg  euro268.jpg  euro33.jpg   euro50.jpg\n",
            "euro11.jpg   euro195.jpg  euro269.jpg  euro340.jpg  euro51.jpg\n",
            "euro120.jpg  euro196.jpg  euro26.jpg   euro341.jpg  euro52.jpg\n",
            "euro121.jpg  euro197.jpg  euro270.jpg  euro342.jpg  euro53.jpg\n",
            "euro122.jpg  euro198.jpg  euro271.jpg  euro343.jpg  euro54.jpg\n",
            "euro123.jpg  euro199.jpg  euro272.jpg  euro344.jpg  euro55.jpg\n",
            "euro124.jpg  euro1.jpg    euro273.jpg  euro345.jpg  euro56.jpg\n",
            "euro125.jpg  euro200.jpg  euro274.jpg  euro346.jpg  euro57.jpg\n",
            "euro126.jpg  euro201.jpg  euro275.jpg  euro347.jpg  euro58.jpg\n",
            "euro127.jpg  euro202.jpg  euro276.jpg  euro348.jpg  euro59.jpg\n",
            "euro128.jpg  euro203.jpg  euro277.jpg  euro349.jpg  euro5.jpg\n",
            "euro129.jpg  euro204.jpg  euro278.jpg  euro34.jpg   euro60.jpg\n",
            "euro12.jpg   euro205.jpg  euro279.jpg  euro350.jpg  euro61.jpg\n",
            "euro130.jpg  euro206.jpg  euro27.jpg   euro351.jpg  euro62.jpg\n",
            "euro131.jpg  euro207.jpg  euro280.jpg  euro352.jpg  euro63.jpg\n",
            "euro132.jpg  euro208.jpg  euro281.jpg  euro353.jpg  euro64.jpg\n",
            "euro133.jpg  euro209.jpg  euro282.jpg  euro354.jpg  euro65.jpg\n",
            "euro134.jpg  euro20.jpg   euro283.jpg  euro355.jpg  euro66.jpg\n",
            "euro135.jpg  euro210.jpg  euro284.jpg  euro356.jpg  euro67.jpg\n",
            "euro136.jpg  euro211.jpg  euro285.jpg  euro357.jpg  euro68.jpg\n",
            "euro137.jpg  euro212.jpg  euro287.jpg  euro358.jpg  euro69.jpg\n",
            "euro138.jpg  euro213.jpg  euro288.jpg  euro359.jpg  euro6.jpg\n",
            "euro139.jpg  euro214.jpg  euro289.jpg  euro35.jpg   euro70.jpg\n",
            "euro140.jpg  euro215.jpg  euro28.jpg   euro360.jpg  euro71.jpg\n",
            "euro141.jpg  euro216.jpg  euro290.jpg  euro361.jpg  euro72.jpg\n",
            "euro142.jpg  euro217.jpg  euro291.jpg  euro362.jpg  euro73.jpg\n",
            "euro143.jpg  euro218.jpg  euro292.jpg  euro363.jpg  euro74.jpg\n",
            "euro144.jpg  euro219.jpg  euro293.jpg  euro364.jpg  euro75.jpg\n",
            "euro145.jpg  euro21.jpg   euro294.jpg  euro365.jpg  euro76.jpg\n",
            "euro146.jpg  euro220.jpg  euro295.jpg  euro366.jpg  euro77.jpg\n",
            "euro147.jpg  euro221.jpg  euro296.jpg  euro367.jpg  euro78.jpg\n",
            "euro148.jpg  euro222.jpg  euro297.jpg  euro368.jpg  euro79.jpg\n",
            "euro149.jpg  euro223.jpg  euro298.jpg  euro369.jpg  euro7.jpg\n",
            "euro14.jpg   euro224.jpg  euro299.jpg  euro36.jpg   euro80.jpg\n",
            "euro150.jpg  euro225.jpg  euro29.jpg   euro370.jpg  euro81.jpg\n",
            "euro151.jpg  euro226.jpg  euro2.jpg    euro371.jpg  euro82.jpg\n",
            "euro152.jpg  euro227.jpg  euro300.jpg  euro372.jpg  euro83.jpg\n",
            "euro153.jpg  euro228.jpg  euro301.jpg  euro373.jpg  euro84.jpg\n",
            "euro154.jpg  euro229.jpg  euro302.jpg  euro374.jpg  euro85.jpg\n",
            "euro155.jpg  euro22.jpg   euro303.jpg  euro375.jpg  euro86.jpg\n",
            "euro156.jpg  euro230.jpg  euro304.jpg  euro376.jpg  euro87.jpg\n",
            "euro157.jpg  euro231.jpg  euro305.jpg  euro377.jpg  euro88.jpg\n",
            "euro158.jpg  euro232.jpg  euro306.jpg  euro378.jpg  euro89.jpg\n",
            "euro159.jpg  euro233.jpg  euro307.jpg  euro379.jpg  euro8.jpg\n",
            "euro160.jpg  euro234.jpg  euro308.jpg  euro37.jpg   euro90.jpg\n",
            "euro161.jpg  euro235.jpg  euro309.jpg  euro380.jpg  euro91.jpg\n",
            "euro162.jpg  euro236.jpg  euro30.jpg   euro381.jpg  euro92.jpg\n",
            "euro163.jpg  euro237.jpg  euro310.jpg  euro382.jpg  euro93.jpg\n",
            "euro164.jpg  euro238.jpg  euro311.jpg  euro383.jpg  euro94.jpg\n",
            "euro165.jpg  euro239.jpg  euro312.jpg  euro384.jpg  euro95.jpg\n",
            "euro166.jpg  euro23.jpg   euro313.jpg  euro385.jpg  euro96.jpg\n",
            "euro167.jpg  euro241.jpg  euro314.jpg  euro386.jpg  euro97.jpg\n",
            "euro168.jpg  euro242.jpg  euro315.jpg  euro387.jpg  euro98.jpg\n",
            "euro169.jpg  euro243.jpg  euro316.jpg  euro388.jpg  euro99.jpg\n",
            "euro170.jpg  euro244.jpg  euro317.jpg  euro389.jpg  filename_euro.txt\n",
            "euro171.jpg  euro245.jpg  euro318.jpg  euro38.jpg\n",
            "euro172.jpg  euro246.jpg  euro319.jpg  euro390.jpg\n",
            "euro173.jpg  euro247.jpg  euro31.jpg   euro391.jpg\n",
            "euro174.jpg  euro249.jpg  euro320.jpg  euro392.jpg\n"
          ]
        }
      ]
    },
    {
      "cell_type": "code",
      "metadata": {
        "id": "P1AglAyabsoo",
        "colab": {
          "base_uri": "https://localhost:8080/"
        },
        "outputId": "df594835-50fa-4ae5-8a94-df00cf6ad227"
      },
      "source": [
        "!ls"
      ],
      "execution_count": null,
      "outputs": [
        {
          "output_type": "stream",
          "name": "stdout",
          "text": [
            "gdrive\tmask_rcnn  mask_rcnn_coco.h5  sample_data\n"
          ]
        }
      ]
    },
    {
      "cell_type": "code",
      "metadata": {
        "id": "g-BE5v84a1d3",
        "colab": {
          "base_uri": "https://localhost:8080/"
        },
        "outputId": "22e1249a-b57c-4007-ddbd-ed6c4ad7db7f"
      },
      "source": [
        "!ls /content/mask_rcnn/mask_rcnn/"
      ],
      "execution_count": null,
      "outputs": [
        {
          "output_type": "stream",
          "name": "stdout",
          "text": [
            "ls: cannot access '/content/mask_rcnn/mask_rcnn/': No such file or directory\n"
          ]
        }
      ]
    },
    {
      "cell_type": "code",
      "metadata": {
        "id": "-VnLQ4NbXD2S",
        "colab": {
          "base_uri": "https://localhost:8080/"
        },
        "outputId": "9c6a4536-6828-4a7a-9bd8-f678c945d7c0"
      },
      "source": [
        "IMAGE_DIR = os.path.join(ROOT_DIR, \"mask_rcnn/harajuku_f\")\n",
        "print(IMAGE_DIR)"
      ],
      "execution_count": null,
      "outputs": [
        {
          "output_type": "stream",
          "name": "stdout",
          "text": [
            "/content/mask_rcnn/harajuku_f\n"
          ]
        }
      ]
    },
    {
      "cell_type": "code",
      "metadata": {
        "id": "-OTYU2XwXLGL",
        "colab": {
          "base_uri": "https://localhost:8080/"
        },
        "outputId": "ef11ebcd-2a39-4a00-b439-2d40ad58d965"
      },
      "source": [
        "!ls /content/mask_rcnn/harajuku_f"
      ],
      "execution_count": null,
      "outputs": [
        {
          "output_type": "stream",
          "name": "stdout",
          "text": [
            "image0.jpeg   image16.jpeg  image22.jpeg  image29.jpeg\timage7.jpeg\n",
            "image10.jpeg  image17.jpeg  image23.jpeg  image2.jpeg\timage8.jpeg\n",
            "image11.jpeg  image18.jpeg  image24.jpeg  image30.jpeg\timage9.jpeg\n",
            "image12.jpeg  image19.jpeg  image25.jpeg  image3.jpeg\timage.jpeg\n",
            "image13.jpeg  image1.jpeg   image26.jpeg  image4.jpeg\toutput\n",
            "image14.jpeg  image20.jpeg  image27.jpeg  image5.jpeg\n",
            "image15.jpeg  image21.jpeg  image28.jpeg  image6.jpeg\n"
          ]
        }
      ]
    },
    {
      "cell_type": "code",
      "metadata": {
        "id": "KMeklIQqWYh0",
        "colab": {
          "base_uri": "https://localhost:8080/"
        },
        "outputId": "128d1e1e-1821-4ec7-c36e-7028a90b3696"
      },
      "source": [
        "os.listdir(IMAGE_DIR)"
      ],
      "execution_count": null,
      "outputs": [
        {
          "output_type": "execute_result",
          "data": {
            "text/plain": [
              "['image28.jpeg',\n",
              " 'image3.jpeg',\n",
              " 'image7.jpeg',\n",
              " 'image6.jpeg',\n",
              " 'image25.jpeg',\n",
              " 'image26.jpeg',\n",
              " 'image15.jpeg',\n",
              " 'image19.jpeg',\n",
              " 'image16.jpeg',\n",
              " 'image0.jpeg',\n",
              " 'image27.jpeg',\n",
              " 'image4.jpeg',\n",
              " 'output',\n",
              " 'image21.jpeg',\n",
              " 'image24.jpeg',\n",
              " 'image13.jpeg',\n",
              " 'image11.jpeg',\n",
              " 'image20.jpeg',\n",
              " 'image29.jpeg',\n",
              " 'image18.jpeg',\n",
              " 'image22.jpeg',\n",
              " 'image1.jpeg',\n",
              " 'image12.jpeg',\n",
              " 'image10.jpeg',\n",
              " 'image23.jpeg',\n",
              " 'image8.jpeg',\n",
              " 'image14.jpeg',\n",
              " 'image5.jpeg',\n",
              " 'image2.jpeg',\n",
              " 'image.jpeg',\n",
              " 'image17.jpeg',\n",
              " 'image9.jpeg',\n",
              " 'image30.jpeg']"
            ]
          },
          "metadata": {},
          "execution_count": 17
        }
      ]
    },
    {
      "cell_type": "code",
      "metadata": {
        "id": "1rrjb-YeXs0X",
        "colab": {
          "base_uri": "https://localhost:8080/",
          "height": 35
        },
        "outputId": "e0c90e9b-ecea-4c26-be9d-0fbe80395fea"
      },
      "source": [
        "IMAGE_DIR"
      ],
      "execution_count": null,
      "outputs": [
        {
          "output_type": "execute_result",
          "data": {
            "application/vnd.google.colaboratory.intrinsic+json": {
              "type": "string"
            },
            "text/plain": [
              "'/content/mask_rcnn/harajuku_f'"
            ]
          },
          "metadata": {},
          "execution_count": 18
        }
      ]
    },
    {
      "cell_type": "code",
      "metadata": {
        "id": "Z1lM3vUcYPB2",
        "scrolled": false
      },
      "source": [
        "# # Load a random image from the images folder\n",
        "# IMAGE_DIR = os.path.join(ROOT_DIR, \"gdrive/MyDrive/Colab Notebooks/mask_rcnn-master/mask_rcnn-master/harajuku_f\")\n",
        "# print(IMAGE_DIR)\n",
        "# img_list = []\n",
        "# for file_name in os.listdir(IMAGE_DIR):\n",
        "#   try:\n",
        "#     image = skimage.io.imread(os.path.join(IMAGE_DIR, file_name))\n",
        "\n",
        "#     # file_names = next(os.walk(IMAGE_DIR))[2]\n",
        "#     # image = skimage.io.imread(os.path.join(IMAGE_DIR, random.choice(file_names)))\n",
        "\n",
        "#     # Run detection\n",
        "#     results = model.detect([image], verbose=0)\n",
        "\n",
        "#     # Visualize results\n",
        "#     r = results[0]\n",
        "#     img_list.append(r)\n",
        "#     print('Image: {} is successfully detected'.format(file_name))\n",
        "#   except:\n",
        "#     print('Image: {} CANNOT be used'.format(file_name))\n",
        "\n",
        "# visualize.display_instances(image, r['rois'], r['masks'], r['class_ids'], \n",
        "#                             class_names, r['scores'])"
      ],
      "execution_count": null,
      "outputs": []
    },
    {
      "cell_type": "code",
      "metadata": {
        "id": "iOTrsqDkhXAv"
      },
      "source": [
        "def detection(img_dir):\n",
        "  try:\n",
        "    image = skimage.io.imread(img_dir)\n",
        "    results = model.detect([image], verbose=0)\n",
        "    \n",
        "    return image, results[0]\n",
        "  except:\n",
        "    return None, None"
      ],
      "execution_count": null,
      "outputs": []
    },
    {
      "cell_type": "code",
      "metadata": {
        "id": "fd8uDU-CilSR"
      },
      "source": [
        ""
      ],
      "execution_count": null,
      "outputs": []
    },
    {
      "cell_type": "markdown",
      "metadata": {
        "id": "44VBHACkmShN"
      },
      "source": [
        "# Image Cropping\n",
        "\n",
        "\n"
      ]
    },
    {
      "cell_type": "code",
      "metadata": {
        "id": "GyoNf-RaPJXw"
      },
      "source": [
        "from google.colab.patches import cv2_imshow"
      ],
      "execution_count": null,
      "outputs": []
    },
    {
      "cell_type": "code",
      "metadata": {
        "id": "Ma5JQVzji_5F"
      },
      "source": [
        "def cropping(det, img):\n",
        "\n",
        "  num_piece = sum((det['class_ids']==1)&(det['scores']>0.995))\n",
        "  temp_img_list = [np.zeros(shape=(img.shape[0], img.shape[1], 3)) for i in range(num_piece)]\n",
        "\n",
        "  pt = 0\n",
        "  for i in range(det['class_ids'].shape[0]):\n",
        "    if((det['class_ids'][i]==1)&(det['scores'][i]>0.995)):\n",
        "      temp_img_list[pt][:, :, 0] = r['masks'][:, :, i] * img[:, :, 0]\n",
        "      temp_img_list[pt][:, :, 1] = r['masks'][:, :, i] * img[:, :, 1]\n",
        "      temp_img_list[pt][:, :, 2] = r['masks'][:, :, i] * img[:, :, 2]\n",
        "      pt = pt+1\n",
        "\n",
        "  return cropping_main(temp_img_list)"
      ],
      "execution_count": null,
      "outputs": []
    },
    {
      "cell_type": "code",
      "metadata": {
        "id": "10Ke2yBePtnX"
      },
      "source": [
        "# temp_img_list = [np.zeros(shape=(image.shape[0], image.shape[1], 3)) for i in range(num_piece)]"
      ],
      "execution_count": null,
      "outputs": []
    },
    {
      "cell_type": "code",
      "metadata": {
        "id": "XoAdp_dGQw0J"
      },
      "source": [
        "# pt = 0\n",
        "# for i in range(r['class_ids'].shape[0]):\n",
        "#   if(r['class_ids'][i]==True):\n",
        "#     temp_img_list[pt][:, :, 0] = r['masks'][:, :, i] * image[:, :, 0]\n",
        "#     temp_img_list[pt][:, :, 1] = r['masks'][:, :, i] * image[:, :, 1]\n",
        "#     temp_img_list[pt][:, :, 2] = r['masks'][:, :, i] * image[:, :, 2]\n",
        "#     pt = pt+1"
      ],
      "execution_count": null,
      "outputs": []
    },
    {
      "cell_type": "code",
      "metadata": {
        "id": "bDyLZN8B2uKn"
      },
      "source": [
        "def cropping_main(temp_img_list):\n",
        "  min_x = max_x = min_y = max_y = 0\n",
        "  img_seg_list = []\n",
        "  for z in range(len(temp_img_list)):\n",
        "    h = temp_img_list[z].shape[0]\n",
        "    w = temp_img_list[z].shape[1]\n",
        "    for i in range(0, h):\n",
        "      chk_px = 0\n",
        "      for j in range(0, w):\n",
        "        if(temp_img_list[z][i, j, 0]+temp_img_list[z][i, j, 1]+temp_img_list[z][i, j, 2]!=0):\n",
        "          chk_px = 1\n",
        "          break\n",
        "      if(chk_px==1):\n",
        "        min_i = i\n",
        "        break\n",
        "    for i in range(h-1, -1, -1):\n",
        "      chk_px = 0\n",
        "      for j in range(0, w):\n",
        "        if(temp_img_list[z][i, j, 0]+temp_img_list[z][i, j, 1]+temp_img_list[z][i, j, 2]!=0):\n",
        "          chk_px = 1\n",
        "          break\n",
        "      if(chk_px==1):\n",
        "        max_i = i\n",
        "        break\n",
        "\n",
        "    for j in range(0, w):\n",
        "      chk_px = 0\n",
        "      for i in range(0, h):\n",
        "        if(temp_img_list[z][i, j, 0]+temp_img_list[z][i, j, 1]+temp_img_list[z][i, j, 2]!=0):\n",
        "          chk_px = 1\n",
        "          break\n",
        "      if(chk_px==1):\n",
        "        min_j = j\n",
        "        break\n",
        "    for j in range(w-1, -1, -1):\n",
        "      chk_px = 0\n",
        "      for i in range(0, h):\n",
        "        if(temp_img_list[z][i, j, 0]+temp_img_list[z][i, j, 1]+temp_img_list[z][i, j, 2]!=0):\n",
        "          chk_px = 1\n",
        "          break\n",
        "      if(chk_px==1):\n",
        "        max_j = j\n",
        "        break\n",
        "    print('{}, {}, {}, {}'.format(min_i, max_i, min_j, max_j))\n",
        "    temp = np.zeros(shape=(max_i-min_i+1, max_j-min_j+1, 3))\n",
        "    temp[:, :, 0] = temp_img_list[z][min_i:max_i+1, min_j:max_j+1, 0]\n",
        "    temp[:, :, 1] = temp_img_list[z][min_i:max_i+1, min_j:max_j+1, 1]\n",
        "    temp[:, :, 2] = temp_img_list[z][min_i:max_i+1, min_j:max_j+1, 2]\n",
        "    img_seg_list.append(temp)\n",
        "  return img_seg_list"
      ],
      "execution_count": null,
      "outputs": []
    },
    {
      "cell_type": "code",
      "source": [
        "def cropping_alpha(det, img):\n",
        "\n",
        "  num_piece = sum((det['class_ids']==1)&(det['scores']>0.995))\n",
        "  temp_img_list = [np.zeros(shape=(img.shape[0], img.shape[1], 4)) for i in range(num_piece)]\n",
        "  \n",
        "  pt = 0\n",
        "  for i in range(det['class_ids'].shape[0]):\n",
        "    if((det['class_ids'][i]==1)&(det['scores'][i]>0.995)):\n",
        "      temp_img_list[pt][:, :, 0] = r['masks'][:, :, i] * img[:, :, 0]\n",
        "      temp_img_list[pt][:, :, 1] = r['masks'][:, :, i] * img[:, :, 1]\n",
        "      temp_img_list[pt][:, :, 2] = r['masks'][:, :, i] * img[:, :, 2]\n",
        "      temp_img_list[pt][:, :, 3] = r['masks'][:, :, i] * 255\n",
        "      pt = pt+1\n",
        "  \n",
        "  # return temp_img_list\n",
        "  return cropping_main_alpha(temp_img_list)\n",
        "\n",
        "def cropping_main_alpha(temp_img_list):\n",
        "  min_x = max_x = min_y = max_y = 0\n",
        "  img_seg_list = []\n",
        "  for z in range(len(temp_img_list)):\n",
        "    \n",
        "    h = temp_img_list[z].shape[0]\n",
        "    w = temp_img_list[z].shape[1]\n",
        "    print(\"h = {}, w = {}\".format(h,w))\n",
        "    for i in range(0, h):\n",
        "      chk_px = 0\n",
        "      for j in range(0, w):\n",
        "        if(temp_img_list[z][i, j, 0]+temp_img_list[z][i, j, 1]+temp_img_list[z][i, j, 2]!=0):\n",
        "          chk_px = 1\n",
        "          break\n",
        "      if(chk_px==1):\n",
        "        min_i = i\n",
        "        break\n",
        "    for i in range(h-1, -1, -1):\n",
        "      chk_px = 0\n",
        "      for j in range(0, w):\n",
        "        if(temp_img_list[z][i, j, 0]+temp_img_list[z][i, j, 1]+temp_img_list[z][i, j, 2]!=0):\n",
        "          chk_px = 1\n",
        "          break\n",
        "      if(chk_px==1):\n",
        "        max_i = i\n",
        "        break\n",
        "\n",
        "    for j in range(0, w):\n",
        "      chk_px = 0\n",
        "      for i in range(0, h):\n",
        "        if(temp_img_list[z][i, j, 0]+temp_img_list[z][i, j, 1]+temp_img_list[z][i, j, 2]!=0):\n",
        "          chk_px = 1\n",
        "          break\n",
        "      if(chk_px==1):\n",
        "        min_j = j\n",
        "        break\n",
        "    for j in range(w-1, -1, -1):\n",
        "      chk_px = 0\n",
        "      for i in range(0, h):\n",
        "        if(temp_img_list[z][i, j, 0]+temp_img_list[z][i, j, 1]+temp_img_list[z][i, j, 2]!=0):\n",
        "          chk_px = 1\n",
        "          break\n",
        "      if(chk_px==1):\n",
        "        max_j = j\n",
        "        break\n",
        "    print('{}, {}, {}, {}'.format(min_i, max_i, min_j, max_j))\n",
        "    temp = np.zeros(shape=(max_i-min_i+1, max_j-min_j+1, 4))\n",
        "    temp[:, :, 0] = temp_img_list[z][min_i:max_i+1, min_j:max_j+1, 0]\n",
        "    temp[:, :, 1] = temp_img_list[z][min_i:max_i+1, min_j:max_j+1, 1]\n",
        "    temp[:, :, 2] = temp_img_list[z][min_i:max_i+1, min_j:max_j+1, 2]\n",
        "    temp[:, :, 3] = temp_img_list[z][min_i:max_i+1, min_j:max_j+1, 3]\n",
        "    img_seg_list.append(temp)\n",
        "  return img_seg_list"
      ],
      "metadata": {
        "id": "cuQBXIPfNvuI"
      },
      "execution_count": null,
      "outputs": []
    },
    {
      "cell_type": "markdown",
      "metadata": {
        "id": "md4VTcoaq1CY"
      },
      "source": [
        "# Object Scaling"
      ]
    },
    {
      "cell_type": "code",
      "metadata": {
        "id": "fBnlIOw1oXFY"
      },
      "source": [
        "import cv2"
      ],
      "execution_count": null,
      "outputs": []
    },
    {
      "cell_type": "code",
      "metadata": {
        "id": "3t5p6LKRq4yq"
      },
      "source": [
        "# min_h = np.inf\n",
        "# min_w = np.inf\n",
        "# for i in range(len(img_seg_list)):\n",
        "#   if(img_seg_list[i].shape[0]<min_h):\n",
        "#     min_h = img_seg_list[i].shape[0]\n",
        "#   if(img_seg_list[i].shape[1]<min_w):\n",
        "#     min_w = img_seg_list[i].shape[1]\n",
        "\n",
        "# img_scaling = [np.zeros(shape=(min_h, min_w, 3)) for i in range(len(img_seg_list))]\n",
        "\n",
        "# for i in range(len(img_seg_list)):\n",
        "#   img_scaling[i] = cv2.resize(img_seg_list[i], dsize=(min_w, min_h), interpolation = cv2.INTER_CUBIC)"
      ],
      "execution_count": null,
      "outputs": []
    },
    {
      "cell_type": "code",
      "metadata": {
        "id": "LhX3cs5Mofvl"
      },
      "source": [
        ""
      ],
      "execution_count": null,
      "outputs": []
    },
    {
      "cell_type": "code",
      "metadata": {
        "id": "8-_TBZWZ6caL"
      },
      "source": [
        "def scaling(img_seg_list):\n",
        "  max_h = 0\n",
        "  max_w = 0\n",
        "  for i in range(len(img_seg_list)):\n",
        "    if(img_seg_list[i].shape[0]>max_h):\n",
        "      max_h = img_seg_list[i].shape[0]\n",
        "    if(img_seg_list[i].shape[1]>max_w):\n",
        "      max_w = img_seg_list[i].shape[1]\n",
        "\n",
        "  img_scaling = [np.zeros(shape=(max_h, max_w, 3)) for i in range(len(img_seg_list))]\n",
        "\n",
        "  for i in range(len(img_seg_list)):\n",
        "    img_scaling[i] = cv2.resize(img_seg_list[i], dsize=(max_w, max_h), interpolation = cv2.INTER_CUBIC)\n",
        "  \n",
        "  return img_scaling"
      ],
      "execution_count": null,
      "outputs": []
    },
    {
      "cell_type": "markdown",
      "metadata": {
        "id": "xtileDUc7-2S"
      },
      "source": [
        "# Write result images"
      ]
    },
    {
      "cell_type": "code",
      "metadata": {
        "id": "OKBKa30RXhR0",
        "colab": {
          "base_uri": "https://localhost:8080/"
        },
        "outputId": "bc2ad932-287d-4355-f525-80330c9bb2f6"
      },
      "source": [
        "ls harajuku_f/output"
      ],
      "execution_count": null,
      "outputs": [
        {
          "output_type": "stream",
          "name": "stdout",
          "text": [
            "ls: cannot access 'harajuku_f/output': No such file or directory\n"
          ]
        }
      ]
    },
    {
      "cell_type": "code",
      "metadata": {
        "id": "L60LEdi8Yuq1"
      },
      "source": [
        "def write_img(img_scaling, out_dir, st_idx):\n",
        "  for i in range(len(img_scaling)):\n",
        "    IMAGE_DIR_out = os.path.join(out_dir, \"test{:05d}.jpg\".format(st_idx+i))\n",
        "    skimage.io.imsave(IMAGE_DIR_out, img_scaling[i])"
      ],
      "execution_count": null,
      "outputs": []
    },
    {
      "cell_type": "code",
      "metadata": {
        "id": "zJL37ycapcEV"
      },
      "source": [
        ""
      ],
      "execution_count": null,
      "outputs": []
    },
    {
      "cell_type": "markdown",
      "metadata": {
        "id": "gWtSMuT4phNJ"
      },
      "source": [
        "# Main Section"
      ]
    },
    {
      "cell_type": "code",
      "metadata": {
        "id": "4poZTtDVpmP4",
        "colab": {
          "base_uri": "https://localhost:8080/",
          "height": 35
        },
        "outputId": "5bcca14e-dd99-4322-a053-1113746986d0"
      },
      "source": [
        "ROOT_DIR"
      ],
      "execution_count": null,
      "outputs": [
        {
          "output_type": "execute_result",
          "data": {
            "application/vnd.google.colaboratory.intrinsic+json": {
              "type": "string"
            },
            "text/plain": [
              "'/content'"
            ]
          },
          "metadata": {},
          "execution_count": 31
        }
      ]
    },
    {
      "cell_type": "code",
      "source": [
        "os.listdir(IMAGE_DIR)[0]"
      ],
      "metadata": {
        "colab": {
          "base_uri": "https://localhost:8080/",
          "height": 35
        },
        "id": "8oqfNUMycCv9",
        "outputId": "46338cd0-0a49-48f8-e0fe-2eade3b1be8d"
      },
      "execution_count": null,
      "outputs": [
        {
          "output_type": "execute_result",
          "data": {
            "application/vnd.google.colaboratory.intrinsic+json": {
              "type": "string"
            },
            "text/plain": [
              "'image28.jpeg'"
            ]
          },
          "metadata": {},
          "execution_count": 32
        }
      ]
    },
    {
      "cell_type": "code",
      "source": [
        "file_name = os.listdir(IMAGE_DIR)[0]\n",
        "img, r = detection(os.path.join(IMAGE_DIR, file_name))\n",
        "temp_list = cropping(det=r, img=img)\n",
        "img_scaling = scaling(img_seg_list=temp_list)"
      ],
      "metadata": {
        "colab": {
          "base_uri": "https://localhost:8080/"
        },
        "id": "EmmZBgMsbocH",
        "outputId": "4308a86b-24d0-4624-8629-853b91db93d0"
      },
      "execution_count": null,
      "outputs": [
        {
          "output_type": "stream",
          "name": "stdout",
          "text": [
            "38, 250, 47, 128\n"
          ]
        }
      ]
    },
    {
      "cell_type": "code",
      "source": [
        "cv2_imshow(img)"
      ],
      "metadata": {
        "colab": {
          "base_uri": "https://localhost:8080/",
          "height": 292
        },
        "id": "ZBn626OdD-L-",
        "outputId": "05e4b79b-152a-4a3c-8959-054554c1299e"
      },
      "execution_count": null,
      "outputs": [
        {
          "output_type": "display_data",
          "data": {
            "image/png": "[encoded data removed]",
            "text/plain": [
              "<PIL.Image.Image image mode=RGB size=183x275 at 0x7F4FF5307C90>"
            ]
          },
          "metadata": {}
        }
      ]
    },
    {
      "cell_type": "code",
      "source": [
        "cv2_imshow(img_scaling[0])"
      ],
      "metadata": {
        "colab": {
          "base_uri": "https://localhost:8080/",
          "height": 230
        },
        "id": "B4OKIh5TDkb9",
        "outputId": "963132fe-fbbe-4517-fd56-7f85d4548dd1"
      },
      "execution_count": null,
      "outputs": [
        {
          "output_type": "display_data",
          "data": {
            "image/png": "[encoded data removed]",
            "text/plain": [
              "<PIL.Image.Image image mode=RGB size=82x213 at 0x7F4FF578C710>"
            ]
          },
          "metadata": {}
        }
      ]
    },
    {
      "cell_type": "code",
      "source": [
        "img_scaling"
      ],
      "metadata": {
        "colab": {
          "base_uri": "https://localhost:8080/"
        },
        "id": "H9ly6KdU2YRw",
        "outputId": "f8943efc-02e0-4f3c-cf5b-2ed36225b780"
      },
      "execution_count": null,
      "outputs": [
        {
          "output_type": "execute_result",
          "data": {
            "text/plain": [
              "[array([[[0., 0., 0.],\n",
              "         [0., 0., 0.],\n",
              "         [0., 0., 0.],\n",
              "         ...,\n",
              "         [0., 0., 0.],\n",
              "         [0., 0., 0.],\n",
              "         [0., 0., 0.]],\n",
              " \n",
              "        [[0., 0., 0.],\n",
              "         [0., 0., 0.],\n",
              "         [0., 0., 0.],\n",
              "         ...,\n",
              "         [0., 0., 0.],\n",
              "         [0., 0., 0.],\n",
              "         [0., 0., 0.]],\n",
              " \n",
              "        [[0., 0., 0.],\n",
              "         [0., 0., 0.],\n",
              "         [0., 0., 0.],\n",
              "         ...,\n",
              "         [0., 0., 0.],\n",
              "         [0., 0., 0.],\n",
              "         [0., 0., 0.]],\n",
              " \n",
              "        ...,\n",
              " \n",
              "        [[0., 0., 0.],\n",
              "         [0., 0., 0.],\n",
              "         [0., 0., 0.],\n",
              "         ...,\n",
              "         [0., 0., 0.],\n",
              "         [0., 0., 0.],\n",
              "         [0., 0., 0.]],\n",
              " \n",
              "        [[0., 0., 0.],\n",
              "         [0., 0., 0.],\n",
              "         [0., 0., 0.],\n",
              "         ...,\n",
              "         [0., 0., 0.],\n",
              "         [0., 0., 0.],\n",
              "         [0., 0., 0.]],\n",
              " \n",
              "        [[0., 0., 0.],\n",
              "         [0., 0., 0.],\n",
              "         [0., 0., 0.],\n",
              "         ...,\n",
              "         [0., 0., 0.],\n",
              "         [0., 0., 0.],\n",
              "         [0., 0., 0.]]])]"
            ]
          },
          "metadata": {},
          "execution_count": 58
        }
      ]
    },
    {
      "cell_type": "code",
      "source": [
        "bgr = np.array(img_scaling[0][:,:,:3], dtype=np.uint8) # Channels 0..2\n",
        "gray = cv2.cvtColor(bgr, cv2.COLOR_BGR2GRAY)\n",
        "\n",
        "*_, alpha = cv2.split(img_scaling[0])\n",
        "# Some sort of processing...\n",
        "\n",
        "bgr = cv2.cvtColor(gray, cv2.COLOR_GRAY2BGR)\n",
        "# alpha = img_scaling[0][:,:,3] # Channel 3\n",
        "result = np.dstack([bgr, alpha])\n",
        "\n",
        "\n",
        "gray_layer = cv2.cvtColor(bgr, cv2.COLOR_BGR2GRAY)\n",
        "\n",
        "# ... Your image processing\n",
        "\n",
        "# Duplicate the grayscale image to mimic the BGR image and finally add the transparency\n",
        "dst = cv2.merge((gray_layer, gray_layer, gray_layer, alpha))"
      ],
      "metadata": {
        "id": "AcgWQKtefIO5",
        "colab": {
          "base_uri": "https://localhost:8080/",
          "height": 217
        },
        "outputId": "33b37801-85fa-433a-f0d7-a5afe8f86a8a"
      },
      "execution_count": null,
      "outputs": [
        {
          "output_type": "error",
          "ename": "error",
          "evalue": "ignored",
          "traceback": [
            "\u001b[0;31m---------------------------------------------------------------------------\u001b[0m",
            "\u001b[0;31merror\u001b[0m                                     Traceback (most recent call last)",
            "\u001b[0;32m<ipython-input-67-4a3ccb589803>\u001b[0m in \u001b[0;36m<module>\u001b[0;34m()\u001b[0m\n\u001b[1;32m     15\u001b[0m \u001b[0;34m\u001b[0m\u001b[0m\n\u001b[1;32m     16\u001b[0m \u001b[0;31m# Duplicate the grayscale image to mimic the BGR image and finally add the transparency\u001b[0m\u001b[0;34m\u001b[0m\u001b[0;34m\u001b[0m\u001b[0;34m\u001b[0m\u001b[0m\n\u001b[0;32m---> 17\u001b[0;31m \u001b[0mdst\u001b[0m \u001b[0;34m=\u001b[0m \u001b[0mcv2\u001b[0m\u001b[0;34m.\u001b[0m\u001b[0mmerge\u001b[0m\u001b[0;34m(\u001b[0m\u001b[0;34m(\u001b[0m\u001b[0mgray_layer\u001b[0m\u001b[0;34m,\u001b[0m \u001b[0mgray_layer\u001b[0m\u001b[0;34m,\u001b[0m \u001b[0mgray_layer\u001b[0m\u001b[0;34m,\u001b[0m \u001b[0malpha\u001b[0m\u001b[0;34m)\u001b[0m\u001b[0;34m)\u001b[0m\u001b[0;34m\u001b[0m\u001b[0;34m\u001b[0m\u001b[0m\n\u001b[0m",
            "\u001b[0;31merror\u001b[0m: OpenCV(4.1.2) /io/opencv/modules/core/src/merge.dispatch.cpp:129: error: (-215:Assertion failed) mv[i].size == mv[0].size && mv[i].depth() == depth in function 'merge'\n"
          ]
        }
      ]
    },
    {
      "cell_type": "code",
      "source": [
        "len(gray_layer)"
      ],
      "metadata": {
        "colab": {
          "base_uri": "https://localhost:8080/"
        },
        "id": "jOGdFCG-CRQy",
        "outputId": "22b1e240-d185-408c-f942-727f8171bcb2"
      },
      "execution_count": null,
      "outputs": [
        {
          "output_type": "execute_result",
          "data": {
            "text/plain": [
              "213"
            ]
          },
          "metadata": {},
          "execution_count": 69
        }
      ]
    },
    {
      "cell_type": "code",
      "source": [
        "len(alpha), len(alpha[0])"
      ],
      "metadata": {
        "colab": {
          "base_uri": "https://localhost:8080/"
        },
        "id": "yIcgzdNBhOu2",
        "outputId": "e92cfe4f-afc5-4bef-d175-ba37a7aa205e"
      },
      "execution_count": null,
      "outputs": [
        {
          "output_type": "execute_result",
          "data": {
            "text/plain": [
              "(213, 82)"
            ]
          },
          "metadata": {},
          "execution_count": 60
        }
      ]
    },
    {
      "cell_type": "code",
      "source": [
        "len(bgr), len(bgr[0]), len(bgr[0][0])"
      ],
      "metadata": {
        "colab": {
          "base_uri": "https://localhost:8080/"
        },
        "id": "tIVTCPdxfro0",
        "outputId": "f27a4cb2-2d06-4945-83e4-7ba7108cdee9"
      },
      "execution_count": null,
      "outputs": [
        {
          "output_type": "execute_result",
          "data": {
            "text/plain": [
              "(213, 82, 3)"
            ]
          },
          "metadata": {},
          "execution_count": 61
        }
      ]
    },
    {
      "cell_type": "code",
      "source": [
        "cv2_imshow(bgr)"
      ],
      "metadata": {
        "colab": {
          "base_uri": "https://localhost:8080/",
          "height": 230
        },
        "id": "ebjo47_pfUcz",
        "outputId": "1047f616-3632-49b0-bebe-34932d732d4e"
      },
      "execution_count": null,
      "outputs": [
        {
          "output_type": "display_data",
          "data": {
            "image/png": "[encoded data removed]",
            "text/plain": [
              "<PIL.Image.Image image mode=RGB size=82x213 at 0x7F513B0A1D50>"
            ]
          },
          "metadata": {}
        }
      ]
    },
    {
      "cell_type": "code",
      "source": [
        "cv2_imshow(img_scaling[0])"
      ],
      "metadata": {
        "colab": {
          "base_uri": "https://localhost:8080/",
          "height": 230
        },
        "id": "Gk44zc0Ydaaq",
        "outputId": "519a0152-14f5-4e72-cb0b-b4484e17d776"
      },
      "execution_count": null,
      "outputs": [
        {
          "output_type": "display_data",
          "data": {
            "image/png": "[encoded data removed]",
            "text/plain": [
              "<PIL.Image.Image image mode=RGB size=82x213 at 0x7F513B0A1910>"
            ]
          },
          "metadata": {}
        }
      ]
    },
    {
      "cell_type": "code",
      "source": [
        "cv2_imshow(result)"
      ],
      "metadata": {
        "colab": {
          "base_uri": "https://localhost:8080/",
          "height": 230
        },
        "id": "ztOw7zX5hYaj",
        "outputId": "8382113d-5001-4878-f8ae-143db1f0fac0"
      },
      "execution_count": null,
      "outputs": [
        {
          "output_type": "display_data",
          "data": {
            "image/png": "[encoded data removed]",
            "text/plain": [
              "<PIL.Image.Image image mode=RGBA size=82x213 at 0x7F513B08FE10>"
            ]
          },
          "metadata": {}
        }
      ]
    },
    {
      "cell_type": "code",
      "source": [
        "result"
      ],
      "metadata": {
        "colab": {
          "base_uri": "https://localhost:8080/"
        },
        "id": "iQzoQShnAunr",
        "outputId": "94620fa5-2498-40bf-af29-27bc56e751df"
      },
      "execution_count": null,
      "outputs": [
        {
          "output_type": "execute_result",
          "data": {
            "text/plain": [
              "array([[[0., 0., 0., 0.],\n",
              "        [0., 0., 0., 0.],\n",
              "        [0., 0., 0., 0.],\n",
              "        ...,\n",
              "        [0., 0., 0., 0.],\n",
              "        [0., 0., 0., 0.],\n",
              "        [0., 0., 0., 0.]],\n",
              "\n",
              "       [[0., 0., 0., 0.],\n",
              "        [0., 0., 0., 0.],\n",
              "        [0., 0., 0., 0.],\n",
              "        ...,\n",
              "        [0., 0., 0., 0.],\n",
              "        [0., 0., 0., 0.],\n",
              "        [0., 0., 0., 0.]],\n",
              "\n",
              "       [[0., 0., 0., 0.],\n",
              "        [0., 0., 0., 0.],\n",
              "        [0., 0., 0., 0.],\n",
              "        ...,\n",
              "        [0., 0., 0., 0.],\n",
              "        [0., 0., 0., 0.],\n",
              "        [0., 0., 0., 0.]],\n",
              "\n",
              "       ...,\n",
              "\n",
              "       [[0., 0., 0., 0.],\n",
              "        [0., 0., 0., 0.],\n",
              "        [0., 0., 0., 0.],\n",
              "        ...,\n",
              "        [0., 0., 0., 0.],\n",
              "        [0., 0., 0., 0.],\n",
              "        [0., 0., 0., 0.]],\n",
              "\n",
              "       [[0., 0., 0., 0.],\n",
              "        [0., 0., 0., 0.],\n",
              "        [0., 0., 0., 0.],\n",
              "        ...,\n",
              "        [0., 0., 0., 0.],\n",
              "        [0., 0., 0., 0.],\n",
              "        [0., 0., 0., 0.]],\n",
              "\n",
              "       [[0., 0., 0., 0.],\n",
              "        [0., 0., 0., 0.],\n",
              "        [0., 0., 0., 0.],\n",
              "        ...,\n",
              "        [0., 0., 0., 0.],\n",
              "        [0., 0., 0., 0.],\n",
              "        [0., 0., 0., 0.]]])"
            ]
          },
          "metadata": {},
          "execution_count": 65
        }
      ]
    },
    {
      "cell_type": "code",
      "metadata": {
        "id": "RQbmPew2pmSe"
      },
      "source": [
        "# IMAGE_DIR = os.path.join(ROOT_DIR, \"gdrive/MyDrive/Colab Notebooks/mask_rcnn-master/mask_rcnn-master/report\")\n",
        "# IMAGE_DIR_out = os.path.join(ROOT_DIR, \"gdrive/MyDrive/Colab Notebooks/mask_rcnn-master/mask_rcnn-master/report/output\")\n",
        "\n",
        "IMAGE_DIR = os.path.join(ROOT_DIR, \"gdrive/MyDrive/NewThesis_Poonyawat_Woottisart/Dataset/thai-street-fashion\")\n",
        "IMAGE_DIR_out = os.path.join(ROOT_DIR, \"gdrive/MyDrive/NewThesis_Poonyawat_Woottisart/Dataset/thai-street-fashion-output\")\n",
        "\n",
        "print(IMAGE_DIR)\n",
        "# img_list = []\n",
        "idx = 0\n",
        "for file_name in os.listdir(IMAGE_DIR):\n",
        "  try:\n",
        "    img, r = detection(os.path.join(IMAGE_DIR, file_name))\n",
        "    temp_list = cropping(det=r, img=img)\n",
        "    img_scaling = scaling(img_seg_list=temp_list)\n",
        "    write_img(img_scaling=img_scaling, out_dir=IMAGE_DIR_out, st_idx=idx)\n",
        "    idx = idx+len(img_scaling)\n",
        "    print('Image: {} is successfully detected'.format(file_name))\n",
        "  except:\n",
        "    print('Image: {} CANNOT be used'.format(file_name))"
      ],
      "execution_count": null,
      "outputs": []
    },
    {
      "cell_type": "code",
      "metadata": {
        "id": "tjeSkF6pN0QB"
      },
      "source": [
        "# pip install gitpython"
      ],
      "execution_count": null,
      "outputs": []
    },
    {
      "cell_type": "code",
      "metadata": {
        "id": "cZBNs3gLYu0O"
      },
      "source": [
        "# from git import Repo\n",
        "\n",
        "# # repo_dir = 'mask_rcnn'\n",
        "# repo = Repo()\n",
        "# file_list = [\n",
        "#     'harajuku_f/output/test2.jpg',\n",
        "# ]\n",
        "# commit_message = 'Add output image'\n",
        "# repo.index.add(file_list)\n",
        "# repo.index.commit(commit_message)\n",
        "# repo.git.push()"
      ],
      "execution_count": null,
      "outputs": []
    },
    {
      "cell_type": "code",
      "metadata": {
        "id": "3uSQN__hB-N5"
      },
      "source": [
        ""
      ],
      "execution_count": null,
      "outputs": []
    },
    {
      "cell_type": "code",
      "metadata": {
        "id": "bVXEI4S09cf3",
        "colab": {
          "base_uri": "https://localhost:8080/"
        },
        "outputId": "68a1273e-0f47-4801-eae0-57e1933656d5"
      },
      "source": [
        "skimage.io.imsave('/content/gdrive/MyDrive/Colab Notebooks/mask_rcnn-master/mask_rcnn-master/harajuku_f/output/output_1.jpg', img_scaling[1])"
      ],
      "execution_count": null,
      "outputs": [
        {
          "output_type": "stream",
          "name": "stderr",
          "text": [
            "WARNING:root:Lossy conversion from float64 to uint8. Range [-28.3331036567688, 290.62828493118286]. Convert image to uint8 prior to saving to suppress this warning.\n"
          ]
        }
      ]
    },
    {
      "cell_type": "code",
      "metadata": {
        "id": "ivL42n2wUK5h"
      },
      "source": [
        "# from github import Github\n",
        "# from credentials import username, password\n",
        "# import pygit2\n",
        "# from git import Repo\n",
        "# import shutil\n",
        "# import subprocess\n",
        "\n",
        "# name = input(\"Name of iOS project: \") # repo name\n",
        "# description = input(\"github description: \") \n",
        "\n",
        "# def createGithubRepo(name, description):\n",
        "#     g = Github(username, password)\n",
        "#     gituser = g.get_user()\n",
        "#     repo = gituser.create_repo(name) \n",
        "#     repo.create_file(\"README.md\", \"init commit\", description)\n",
        "#     return repo.git_url \n",
        "\n",
        "# def clone(url, destination):\n",
        "#     repoClone = pygit2.clone_repository(url, destination)\n",
        "#     repoClone.remotes.set_url(\"origin\", url)\n",
        "#     return repoClone\n",
        "\n",
        "\n",
        "# def basicPushToGithub(pathToRepo, commitMessage, paths):\n",
        "#     repo = Repo(pathToRepo)\n",
        "#     repo.index.add(paths)\n",
        "#     repo.index.commit(commitMessage)\n",
        "#     repo.git.push()\n",
        "\n",
        "# createGithubRepo(name, description)\n",
        "# url = 'https://github.com/<userpath>/'+name+'.git'\n",
        "# repoClone = clone(url, destination)\n",
        "# basicPushToGithub(destination, 'Project added', [destination + name])"
      ],
      "execution_count": null,
      "outputs": []
    }
  ]
}