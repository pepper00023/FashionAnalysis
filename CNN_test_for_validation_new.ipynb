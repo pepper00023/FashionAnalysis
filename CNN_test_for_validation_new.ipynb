{
  "cells": [
    {
      "cell_type": "markdown",
      "metadata": {
        "id": "llXMxW0WA36R"
      },
      "source": [
        "# Import libraries"
      ],
      "id": "llXMxW0WA36R"
    },
    {
      "cell_type": "code",
      "execution_count": 1,
      "metadata": {
        "id": "89d762e3"
      },
      "outputs": [],
      "source": [
        "import matplotlib.pyplot as plt\n",
        "import numpy as np\n",
        "import os\n",
        "import PIL\n",
        "import pathlib\n",
        "import cv2\n",
        "import tensorflow as tf\n",
        "import random \n",
        "\n",
        "from imblearn.over_sampling import SMOTE\n",
        "from sklearn.metrics import confusion_matrix\n",
        "from sklearn.metrics import *\n",
        "\n",
        "from tensorflow import keras\n",
        "from tensorflow.keras import layers\n",
        "from tensorflow.keras.models import Sequential"
      ],
      "id": "89d762e3"
    },
    {
      "cell_type": "markdown",
      "metadata": {
        "id": "5bdde8fa"
      },
      "source": [
        "# Explore the images from image preparation"
      ],
      "id": "5bdde8fa"
    },
    {
      "cell_type": "code",
      "execution_count": 2,
      "metadata": {
        "colab": {
          "base_uri": "https://localhost:8080/"
        },
        "id": "Ye2XYjYFKyCI",
        "outputId": "4e98f896-f950-46ff-af55-f027d67fc215"
      },
      "outputs": [
        {
          "output_type": "stream",
          "name": "stdout",
          "text": [
            "Drive already mounted at /content/gdrive; to attempt to forcibly remount, call drive.mount(\"/content/gdrive\", force_remount=True).\n"
          ]
        }
      ],
      "source": [
        "from google.colab import drive\n",
        "drive.mount('/content/gdrive')"
      ],
      "id": "Ye2XYjYFKyCI"
    },
    {
      "cell_type": "code",
      "execution_count": 3,
      "metadata": {
        "colab": {
          "base_uri": "https://localhost:8080/"
        },
        "id": "SuIA5iRLK4E5",
        "outputId": "65bd59d9-df0e-44f9-b6d2-e6bfbd96e03c"
      },
      "outputs": [
        {
          "output_type": "stream",
          "name": "stdout",
          "text": [
            "gdrive/MyDrive/NewThesis_Poonyawat_Woottisart/val_dataset_filtered\n"
          ]
        }
      ],
      "source": [
        "# img_loc = 'C:/Users/Asus/Documents/Thesis/Me/Dataset'\n",
        "# Root directory of the project\n",
        "ROOT_DIR = os.path.abspath(\"../\")\n",
        "img_loc = \"gdrive/MyDrive/NewThesis_Poonyawat_Woottisart/val_dataset_filtered\"\n",
        "print(img_loc)"
      ],
      "id": "SuIA5iRLK4E5"
    },
    {
      "cell_type": "code",
      "execution_count": 4,
      "metadata": {
        "id": "c1fcb72e"
      },
      "outputs": [],
      "source": [
        "data_dir = pathlib.Path(img_loc)"
      ],
      "id": "c1fcb72e"
    },
    {
      "cell_type": "code",
      "execution_count": 5,
      "metadata": {
        "colab": {
          "base_uri": "https://localhost:8080/"
        },
        "id": "nC-aW96TM5_x",
        "outputId": "75ef1282-54d5-4cb4-9f5d-2e558fb5d901"
      },
      "outputs": [
        {
          "output_type": "execute_result",
          "data": {
            "text/plain": [
              "PosixPath('gdrive/MyDrive/NewThesis_Poonyawat_Woottisart/val_dataset_filtered')"
            ]
          },
          "metadata": {},
          "execution_count": 5
        }
      ],
      "source": [
        "data_dir"
      ],
      "id": "nC-aW96TM5_x"
    },
    {
      "cell_type": "code",
      "execution_count": 6,
      "metadata": {
        "id": "183bdaec"
      },
      "outputs": [],
      "source": [
        "# img_eu_loc = img_loc + '/european-street-fashion-output'\n",
        "# img_jp_loc = img_loc + '/harajuku-kawaii-street-fashion-output'\n",
        "# img_th_loc = img_loc + '/thai-street-fashion-output'\n",
        "\n",
        "img_jp_loc = img_loc + '/ha-output/crop'\n",
        "img_th_loc = img_loc + '/th-output/crop'"
      ],
      "id": "183bdaec"
    },
    {
      "cell_type": "code",
      "execution_count": 7,
      "metadata": {
        "colab": {
          "base_uri": "https://localhost:8080/",
          "height": 35
        },
        "id": "247821e6",
        "outputId": "c8f40294-7879-4279-ca26-62476c403208"
      },
      "outputs": [
        {
          "output_type": "execute_result",
          "data": {
            "text/plain": [
              "'gdrive/MyDrive/NewThesis_Poonyawat_Woottisart/val_dataset_filtered/ha-output/crop'"
            ],
            "application/vnd.google.colaboratory.intrinsic+json": {
              "type": "string"
            }
          },
          "metadata": {},
          "execution_count": 7
        }
      ],
      "source": [
        "img_jp_loc"
      ],
      "id": "247821e6"
    },
    {
      "cell_type": "code",
      "execution_count": 8,
      "metadata": {
        "id": "9bb81c80"
      },
      "outputs": [],
      "source": [
        "dim_i_list = []\n",
        "dim_j_list = []\n",
        "img_list = []\n",
        "label_list = []\n",
        "idx = 0"
      ],
      "id": "9bb81c80"
    },
    {
      "cell_type": "markdown",
      "metadata": {
        "id": "0254cb96"
      },
      "source": [
        "#### THAI"
      ],
      "id": "0254cb96"
    },
    {
      "cell_type": "code",
      "execution_count": 9,
      "metadata": {
        "colab": {
          "base_uri": "https://localhost:8080/"
        },
        "id": "ffb1f37b",
        "outputId": "ad3ae585-3ddb-4768-e4cc-e351f93774fe"
      },
      "outputs": [
        {
          "output_type": "stream",
          "name": "stdout",
          "text": [
            "gdrive/MyDrive/NewThesis_Poonyawat_Woottisart/val_dataset_filtered/th-output/crop/test00000.png: (854, 933, 3) - 0\n",
            "gdrive/MyDrive/NewThesis_Poonyawat_Woottisart/val_dataset_filtered/th-output/crop/test00002.png: (470, 248, 3) - 1\n",
            "gdrive/MyDrive/NewThesis_Poonyawat_Woottisart/val_dataset_filtered/th-output/crop/test00001.png: (465, 209, 3) - 2\n",
            "gdrive/MyDrive/NewThesis_Poonyawat_Woottisart/val_dataset_filtered/th-output/crop/test00007.png: (244, 238, 3) - 3\n",
            "gdrive/MyDrive/NewThesis_Poonyawat_Woottisart/val_dataset_filtered/th-output/crop/test00008.png: (266, 245, 3) - 4\n",
            "gdrive/MyDrive/NewThesis_Poonyawat_Woottisart/val_dataset_filtered/th-output/crop/test00004.png: (321, 411, 3) - 5\n",
            "gdrive/MyDrive/NewThesis_Poonyawat_Woottisart/val_dataset_filtered/th-output/crop/test00005.png: (376, 369, 3) - 6\n",
            "gdrive/MyDrive/NewThesis_Poonyawat_Woottisart/val_dataset_filtered/th-output/crop/test00009.png: (447, 251, 3) - 7\n",
            "gdrive/MyDrive/NewThesis_Poonyawat_Woottisart/val_dataset_filtered/th-output/crop/test00010.png: (586, 313, 3) - 8\n",
            "gdrive/MyDrive/NewThesis_Poonyawat_Woottisart/val_dataset_filtered/th-output/crop/test00011.png: (414, 300, 3) - 9\n",
            "gdrive/MyDrive/NewThesis_Poonyawat_Woottisart/val_dataset_filtered/th-output/crop/test00012.png: (687, 623, 3) - 10\n",
            "gdrive/MyDrive/NewThesis_Poonyawat_Woottisart/val_dataset_filtered/th-output/crop/test00014.png: (424, 291, 3) - 11\n",
            "gdrive/MyDrive/NewThesis_Poonyawat_Woottisart/val_dataset_filtered/th-output/crop/test00015.png: (961, 335, 3) - 12\n",
            "gdrive/MyDrive/NewThesis_Poonyawat_Woottisart/val_dataset_filtered/th-output/crop/test00013.png: (436, 297, 3) - 13\n",
            "gdrive/MyDrive/NewThesis_Poonyawat_Woottisart/val_dataset_filtered/th-output/crop/test00018.png: (516, 287, 3) - 14\n",
            "gdrive/MyDrive/NewThesis_Poonyawat_Woottisart/val_dataset_filtered/th-output/crop/test00019.png: (522, 293, 3) - 15\n",
            "gdrive/MyDrive/NewThesis_Poonyawat_Woottisart/val_dataset_filtered/th-output/crop/test00017.png: (331, 269, 3) - 16\n",
            "gdrive/MyDrive/NewThesis_Poonyawat_Woottisart/val_dataset_filtered/th-output/crop/test00021.png: (1013, 660, 3) - 17\n",
            "gdrive/MyDrive/NewThesis_Poonyawat_Woottisart/val_dataset_filtered/th-output/crop/test00045.png: (687, 337, 3) - 18\n",
            "gdrive/MyDrive/NewThesis_Poonyawat_Woottisart/val_dataset_filtered/th-output/crop/test00049.png: (528, 224, 3) - 19\n",
            "gdrive/MyDrive/NewThesis_Poonyawat_Woottisart/val_dataset_filtered/th-output/crop/test00051.png: (946, 576, 3) - 20\n",
            "gdrive/MyDrive/NewThesis_Poonyawat_Woottisart/val_dataset_filtered/th-output/crop/test00058.png: (579, 349, 3) - 21\n",
            "gdrive/MyDrive/NewThesis_Poonyawat_Woottisart/val_dataset_filtered/th-output/crop/test00057.png: (260, 348, 3) - 22\n",
            "gdrive/MyDrive/NewThesis_Poonyawat_Woottisart/val_dataset_filtered/th-output/crop/test00061.png: (822, 287, 3) - 23\n",
            "gdrive/MyDrive/NewThesis_Poonyawat_Woottisart/val_dataset_filtered/th-output/crop/test00059.png: (465, 423, 3) - 24\n",
            "gdrive/MyDrive/NewThesis_Poonyawat_Woottisart/val_dataset_filtered/th-output/crop/test00065.png: (375, 384, 3) - 25\n",
            "gdrive/MyDrive/NewThesis_Poonyawat_Woottisart/val_dataset_filtered/th-output/crop/test00064.png: (540, 434, 3) - 26\n",
            "gdrive/MyDrive/NewThesis_Poonyawat_Woottisart/val_dataset_filtered/th-output/crop/test00070.png: (761, 293, 3) - 27\n",
            "gdrive/MyDrive/NewThesis_Poonyawat_Woottisart/val_dataset_filtered/th-output/crop/test00071.png: (321, 232, 3) - 28\n",
            "gdrive/MyDrive/NewThesis_Poonyawat_Woottisart/val_dataset_filtered/th-output/crop/test00081.png: (508, 276, 3) - 29\n",
            "gdrive/MyDrive/NewThesis_Poonyawat_Woottisart/val_dataset_filtered/th-output/crop/test00082.png: (724, 416, 3) - 30\n",
            "gdrive/MyDrive/NewThesis_Poonyawat_Woottisart/val_dataset_filtered/th-output/crop/test00083.png: (480, 210, 3) - 31\n",
            "gdrive/MyDrive/NewThesis_Poonyawat_Woottisart/val_dataset_filtered/th-output/crop/test00086.png: (741, 464, 3) - 32\n",
            "gdrive/MyDrive/NewThesis_Poonyawat_Woottisart/val_dataset_filtered/th-output/crop/test00088.png: (844, 416, 3) - 33\n",
            "gdrive/MyDrive/NewThesis_Poonyawat_Woottisart/val_dataset_filtered/th-output/crop/test00090.png: (249, 318, 3) - 34\n",
            "gdrive/MyDrive/NewThesis_Poonyawat_Woottisart/val_dataset_filtered/th-output/crop/test00093.png: (457, 236, 3) - 35\n",
            "gdrive/MyDrive/NewThesis_Poonyawat_Woottisart/val_dataset_filtered/th-output/crop/test00096.png: (849, 310, 3) - 36\n",
            "gdrive/MyDrive/NewThesis_Poonyawat_Woottisart/val_dataset_filtered/th-output/crop/test00095.png: (120, 108, 3) - 37\n",
            "gdrive/MyDrive/NewThesis_Poonyawat_Woottisart/val_dataset_filtered/th-output/crop/test00097.png: (313, 337, 3) - 38\n",
            "gdrive/MyDrive/NewThesis_Poonyawat_Woottisart/val_dataset_filtered/th-output/crop/test00094.png: (95, 115, 3) - 39\n",
            "gdrive/MyDrive/NewThesis_Poonyawat_Woottisart/val_dataset_filtered/th-output/crop/test00098.png: (419, 235, 3) - 40\n",
            "gdrive/MyDrive/NewThesis_Poonyawat_Woottisart/val_dataset_filtered/th-output/crop/test00099.png: (261, 315, 3) - 41\n",
            "gdrive/MyDrive/NewThesis_Poonyawat_Woottisart/val_dataset_filtered/th-output/crop/test00101.png: (612, 345, 3) - 42\n",
            "gdrive/MyDrive/NewThesis_Poonyawat_Woottisart/val_dataset_filtered/th-output/crop/test00100.png: (632, 381, 3) - 43\n",
            "gdrive/MyDrive/NewThesis_Poonyawat_Woottisart/val_dataset_filtered/th-output/crop/test00104.png: (331, 302, 3) - 44\n",
            "gdrive/MyDrive/NewThesis_Poonyawat_Woottisart/val_dataset_filtered/th-output/crop/test00103.png: (332, 191, 3) - 45\n",
            "gdrive/MyDrive/NewThesis_Poonyawat_Woottisart/val_dataset_filtered/th-output/crop/test00106.png: (131, 184, 3) - 46\n",
            "gdrive/MyDrive/NewThesis_Poonyawat_Woottisart/val_dataset_filtered/th-output/crop/test00110.png: (874, 553, 3) - 47\n",
            "gdrive/MyDrive/NewThesis_Poonyawat_Woottisart/val_dataset_filtered/th-output/crop/test00109.png: (601, 287, 3) - 48\n",
            "gdrive/MyDrive/NewThesis_Poonyawat_Woottisart/val_dataset_filtered/th-output/crop/test00113.png: (604, 237, 3) - 49\n",
            "gdrive/MyDrive/NewThesis_Poonyawat_Woottisart/val_dataset_filtered/th-output/crop/test00112.png: (673, 303, 3) - 50\n",
            "gdrive/MyDrive/NewThesis_Poonyawat_Woottisart/val_dataset_filtered/th-output/crop/test00111.png: (582, 375, 3) - 51\n",
            "gdrive/MyDrive/NewThesis_Poonyawat_Woottisart/val_dataset_filtered/th-output/crop/test00115.png: (315, 388, 3) - 52\n",
            "gdrive/MyDrive/NewThesis_Poonyawat_Woottisart/val_dataset_filtered/th-output/crop/test00116.png: (861, 421, 3) - 53\n",
            "gdrive/MyDrive/NewThesis_Poonyawat_Woottisart/val_dataset_filtered/th-output/crop/test00120.png: (260, 347, 3) - 54\n",
            "gdrive/MyDrive/NewThesis_Poonyawat_Woottisart/val_dataset_filtered/th-output/crop/test00119.png: (693, 317, 3) - 55\n",
            "gdrive/MyDrive/NewThesis_Poonyawat_Woottisart/val_dataset_filtered/th-output/crop/test00118.png: (667, 281, 3) - 56\n",
            "gdrive/MyDrive/NewThesis_Poonyawat_Woottisart/val_dataset_filtered/th-output/crop/test00121.png: (401, 292, 3) - 57\n",
            "gdrive/MyDrive/NewThesis_Poonyawat_Woottisart/val_dataset_filtered/th-output/crop/test00123.png: (439, 279, 3) - 58\n",
            "gdrive/MyDrive/NewThesis_Poonyawat_Woottisart/val_dataset_filtered/th-output/crop/test00125.png: (249, 424, 3) - 59\n",
            "gdrive/MyDrive/NewThesis_Poonyawat_Woottisart/val_dataset_filtered/th-output/crop/test00129.png: (756, 232, 3) - 60\n",
            "gdrive/MyDrive/NewThesis_Poonyawat_Woottisart/val_dataset_filtered/th-output/crop/test00126.png: (558, 235, 3) - 61\n",
            "gdrive/MyDrive/NewThesis_Poonyawat_Woottisart/val_dataset_filtered/th-output/crop/test00132.png: (753, 706, 3) - 62\n",
            "gdrive/MyDrive/NewThesis_Poonyawat_Woottisart/val_dataset_filtered/th-output/crop/test00136.png: (849, 720, 3) - 63\n",
            "gdrive/MyDrive/NewThesis_Poonyawat_Woottisart/val_dataset_filtered/th-output/crop/test00135.png: (240, 540, 3) - 64\n",
            "gdrive/MyDrive/NewThesis_Poonyawat_Woottisart/val_dataset_filtered/th-output/crop/test00133.png: (446, 261, 3) - 65\n",
            "gdrive/MyDrive/NewThesis_Poonyawat_Woottisart/val_dataset_filtered/th-output/crop/test00137.png: (762, 308, 3) - 66\n",
            "gdrive/MyDrive/NewThesis_Poonyawat_Woottisart/val_dataset_filtered/th-output/crop/test00142.png: (542, 705, 3) - 67\n",
            "gdrive/MyDrive/NewThesis_Poonyawat_Woottisart/val_dataset_filtered/th-output/crop/test00143.png: (481, 280, 3) - 68\n",
            "gdrive/MyDrive/NewThesis_Poonyawat_Woottisart/val_dataset_filtered/th-output/crop/test00145.png: (868, 439, 3) - 69\n",
            "gdrive/MyDrive/NewThesis_Poonyawat_Woottisart/val_dataset_filtered/th-output/crop/test00147.png: (561, 685, 3) - 70\n",
            "gdrive/MyDrive/NewThesis_Poonyawat_Woottisart/val_dataset_filtered/th-output/crop/test00148.png: (757, 303, 3) - 71\n",
            "gdrive/MyDrive/NewThesis_Poonyawat_Woottisart/val_dataset_filtered/th-output/crop/test00149.png: (303, 302, 3) - 72\n",
            "gdrive/MyDrive/NewThesis_Poonyawat_Woottisart/val_dataset_filtered/th-output/crop/test00150.png: (510, 249, 3) - 73\n",
            "gdrive/MyDrive/NewThesis_Poonyawat_Woottisart/val_dataset_filtered/th-output/crop/test00151.png: (800, 444, 3) - 74\n",
            "gdrive/MyDrive/NewThesis_Poonyawat_Woottisart/val_dataset_filtered/th-output/crop/test00155.png: (443, 325, 3) - 75\n",
            "gdrive/MyDrive/NewThesis_Poonyawat_Woottisart/val_dataset_filtered/th-output/crop/test00154.png: (766, 267, 3) - 76\n",
            "gdrive/MyDrive/NewThesis_Poonyawat_Woottisart/val_dataset_filtered/th-output/crop/test00157.png: (774, 272, 3) - 77\n",
            "gdrive/MyDrive/NewThesis_Poonyawat_Woottisart/val_dataset_filtered/th-output/crop/test00158.png: (567, 184, 3) - 78\n",
            "gdrive/MyDrive/NewThesis_Poonyawat_Woottisart/val_dataset_filtered/th-output/crop/test00156.png: (816, 492, 3) - 79\n",
            "gdrive/MyDrive/NewThesis_Poonyawat_Woottisart/val_dataset_filtered/th-output/crop/test00162.png: (711, 437, 3) - 80\n",
            "gdrive/MyDrive/NewThesis_Poonyawat_Woottisart/val_dataset_filtered/th-output/crop/test00160.png: (459, 347, 3) - 81\n",
            "gdrive/MyDrive/NewThesis_Poonyawat_Woottisart/val_dataset_filtered/th-output/crop/test00161.png: (348, 352, 3) - 82\n",
            "gdrive/MyDrive/NewThesis_Poonyawat_Woottisart/val_dataset_filtered/th-output/crop/test00166.png: (171, 162, 3) - 83\n",
            "gdrive/MyDrive/NewThesis_Poonyawat_Woottisart/val_dataset_filtered/th-output/crop/test00163.png: (386, 240, 3) - 84\n",
            "gdrive/MyDrive/NewThesis_Poonyawat_Woottisart/val_dataset_filtered/th-output/crop/test00168.png: (205, 257, 3) - 85\n",
            "gdrive/MyDrive/NewThesis_Poonyawat_Woottisart/val_dataset_filtered/th-output/crop/test00167.png: (558, 288, 3) - 86\n",
            "gdrive/MyDrive/NewThesis_Poonyawat_Woottisart/val_dataset_filtered/th-output/crop/test00164.png: (439, 210, 3) - 87\n",
            "gdrive/MyDrive/NewThesis_Poonyawat_Woottisart/val_dataset_filtered/th-output/crop/test00170.png: (535, 208, 3) - 88\n",
            "gdrive/MyDrive/NewThesis_Poonyawat_Woottisart/val_dataset_filtered/th-output/crop/test00169.png: (1009, 432, 3) - 89\n",
            "gdrive/MyDrive/NewThesis_Poonyawat_Woottisart/val_dataset_filtered/th-output/crop/test00172.png: (554, 178, 3) - 90\n",
            "gdrive/MyDrive/NewThesis_Poonyawat_Woottisart/val_dataset_filtered/th-output/crop/test00173.png: (1011, 515, 3) - 91\n",
            "gdrive/MyDrive/NewThesis_Poonyawat_Woottisart/val_dataset_filtered/th-output/crop/test00175.png: (619, 208, 3) - 92\n",
            "gdrive/MyDrive/NewThesis_Poonyawat_Woottisart/val_dataset_filtered/th-output/crop/test00176.png: (516, 324, 3) - 93\n",
            "gdrive/MyDrive/NewThesis_Poonyawat_Woottisart/val_dataset_filtered/th-output/crop/test00177.png: (844, 537, 3) - 94\n",
            "gdrive/MyDrive/NewThesis_Poonyawat_Woottisart/val_dataset_filtered/th-output/crop/test00178.png: (738, 731, 3) - 95\n",
            "gdrive/MyDrive/NewThesis_Poonyawat_Woottisart/val_dataset_filtered/th-output/crop/test00181.png: (716, 360, 3) - 96\n",
            "gdrive/MyDrive/NewThesis_Poonyawat_Woottisart/val_dataset_filtered/th-output/crop/test00180.png: (476, 222, 3) - 97\n",
            "gdrive/MyDrive/NewThesis_Poonyawat_Woottisart/val_dataset_filtered/th-output/crop/test00179.png: (892, 300, 3) - 98\n",
            "gdrive/MyDrive/NewThesis_Poonyawat_Woottisart/val_dataset_filtered/th-output/crop/test00182.png: (857, 457, 3) - 99\n",
            "gdrive/MyDrive/NewThesis_Poonyawat_Woottisart/val_dataset_filtered/th-output/crop/test00185.png: (723, 471, 3) - 100\n",
            "gdrive/MyDrive/NewThesis_Poonyawat_Woottisart/val_dataset_filtered/th-output/crop/test00187.png: (532, 319, 3) - 101\n",
            "gdrive/MyDrive/NewThesis_Poonyawat_Woottisart/val_dataset_filtered/th-output/crop/test00186.png: (394, 147, 3) - 102\n",
            "gdrive/MyDrive/NewThesis_Poonyawat_Woottisart/val_dataset_filtered/th-output/crop/test00190.png: (362, 131, 3) - 103\n",
            "gdrive/MyDrive/NewThesis_Poonyawat_Woottisart/val_dataset_filtered/th-output/crop/test00192.png: (486, 386, 3) - 104\n",
            "gdrive/MyDrive/NewThesis_Poonyawat_Woottisart/val_dataset_filtered/th-output/crop/test00191.png: (642, 598, 3) - 105\n",
            "gdrive/MyDrive/NewThesis_Poonyawat_Woottisart/val_dataset_filtered/th-output/crop/test00195.png: (416, 186, 3) - 106\n",
            "gdrive/MyDrive/NewThesis_Poonyawat_Woottisart/val_dataset_filtered/th-output/crop/test00194.png: (789, 239, 3) - 107\n",
            "gdrive/MyDrive/NewThesis_Poonyawat_Woottisart/val_dataset_filtered/th-output/crop/test00193.png: (702, 471, 3) - 108\n",
            "gdrive/MyDrive/NewThesis_Poonyawat_Woottisart/val_dataset_filtered/th-output/crop/test00197.png: (792, 501, 3) - 109\n",
            "gdrive/MyDrive/NewThesis_Poonyawat_Woottisart/val_dataset_filtered/th-output/crop/test00198.png: (519, 278, 3) - 110\n",
            "gdrive/MyDrive/NewThesis_Poonyawat_Woottisart/val_dataset_filtered/th-output/crop/test00196.png: (1036, 389, 3) - 111\n",
            "gdrive/MyDrive/NewThesis_Poonyawat_Woottisart/val_dataset_filtered/th-output/crop/test00200.png: (599, 235, 3) - 112\n",
            "gdrive/MyDrive/NewThesis_Poonyawat_Woottisart/val_dataset_filtered/th-output/crop/test00201.png: (964, 508, 3) - 113\n",
            "gdrive/MyDrive/NewThesis_Poonyawat_Woottisart/val_dataset_filtered/th-output/crop/test00202.png: (670, 281, 3) - 114\n",
            "gdrive/MyDrive/NewThesis_Poonyawat_Woottisart/val_dataset_filtered/th-output/crop/test00204.png: (288, 306, 3) - 115\n",
            "gdrive/MyDrive/NewThesis_Poonyawat_Woottisart/val_dataset_filtered/th-output/crop/test00206.png: (723, 589, 3) - 116\n",
            "gdrive/MyDrive/NewThesis_Poonyawat_Woottisart/val_dataset_filtered/th-output/crop/test00208.png: (326, 513, 3) - 117\n",
            "gdrive/MyDrive/NewThesis_Poonyawat_Woottisart/val_dataset_filtered/th-output/crop/test00207.png: (240, 262, 3) - 118\n",
            "gdrive/MyDrive/NewThesis_Poonyawat_Woottisart/val_dataset_filtered/th-output/crop/test00209.png: (246, 251, 3) - 119\n",
            "gdrive/MyDrive/NewThesis_Poonyawat_Woottisart/val_dataset_filtered/th-output/crop/test00210.png: (244, 106, 3) - 120\n",
            "gdrive/MyDrive/NewThesis_Poonyawat_Woottisart/val_dataset_filtered/th-output/crop/test00212.png: (601, 324, 3) - 121\n",
            "gdrive/MyDrive/NewThesis_Poonyawat_Woottisart/val_dataset_filtered/th-output/crop/test00211.png: (230, 246, 3) - 122\n",
            "gdrive/MyDrive/NewThesis_Poonyawat_Woottisart/val_dataset_filtered/th-output/crop/test00213.png: (375, 269, 3) - 123\n",
            "gdrive/MyDrive/NewThesis_Poonyawat_Woottisart/val_dataset_filtered/th-output/crop/test00214.png: (509, 377, 3) - 124\n",
            "gdrive/MyDrive/NewThesis_Poonyawat_Woottisart/val_dataset_filtered/th-output/crop/test00216.png: (449, 268, 3) - 125\n",
            "gdrive/MyDrive/NewThesis_Poonyawat_Woottisart/val_dataset_filtered/th-output/crop/test00215.png: (382, 292, 3) - 126\n",
            "gdrive/MyDrive/NewThesis_Poonyawat_Woottisart/val_dataset_filtered/th-output/crop/test00218.png: (207, 338, 3) - 127\n",
            "gdrive/MyDrive/NewThesis_Poonyawat_Woottisart/val_dataset_filtered/th-output/crop/test00217.png: (318, 196, 3) - 128\n",
            "gdrive/MyDrive/NewThesis_Poonyawat_Woottisart/val_dataset_filtered/th-output/crop/test00221.png: (659, 270, 3) - 129\n",
            "gdrive/MyDrive/NewThesis_Poonyawat_Woottisart/val_dataset_filtered/th-output/crop/test00223.png: (612, 289, 3) - 130\n",
            "gdrive/MyDrive/NewThesis_Poonyawat_Woottisart/val_dataset_filtered/th-output/crop/test00222.png: (560, 336, 3) - 131\n",
            "gdrive/MyDrive/NewThesis_Poonyawat_Woottisart/val_dataset_filtered/th-output/crop/test00235.png: (457, 262, 3) - 132\n",
            "gdrive/MyDrive/NewThesis_Poonyawat_Woottisart/val_dataset_filtered/th-output/crop/test00234.png: (391, 132, 3) - 133\n",
            "gdrive/MyDrive/NewThesis_Poonyawat_Woottisart/val_dataset_filtered/th-output/crop/test00237.png: (491, 292, 3) - 134\n",
            "gdrive/MyDrive/NewThesis_Poonyawat_Woottisart/val_dataset_filtered/th-output/crop/test00239.png: (478, 383, 3) - 135\n",
            "gdrive/MyDrive/NewThesis_Poonyawat_Woottisart/val_dataset_filtered/th-output/crop/test00240.png: (269, 177, 3) - 136\n",
            "gdrive/MyDrive/NewThesis_Poonyawat_Woottisart/val_dataset_filtered/th-output/crop/test00243.png: (726, 268, 3) - 137\n",
            "gdrive/MyDrive/NewThesis_Poonyawat_Woottisart/val_dataset_filtered/th-output/crop/test00242.png: (694, 277, 3) - 138\n",
            "gdrive/MyDrive/NewThesis_Poonyawat_Woottisart/val_dataset_filtered/th-output/crop/test00248.png: (456, 240, 3) - 139\n",
            "gdrive/MyDrive/NewThesis_Poonyawat_Woottisart/val_dataset_filtered/th-output/crop/test00247.png: (258, 159, 3) - 140\n",
            "gdrive/MyDrive/NewThesis_Poonyawat_Woottisart/val_dataset_filtered/th-output/crop/test00246.png: (357, 263, 3) - 141\n",
            "gdrive/MyDrive/NewThesis_Poonyawat_Woottisart/val_dataset_filtered/th-output/crop/test00250.png: (342, 387, 3) - 142\n",
            "gdrive/MyDrive/NewThesis_Poonyawat_Woottisart/val_dataset_filtered/th-output/crop/test00253.png: (670, 274, 3) - 143\n",
            "gdrive/MyDrive/NewThesis_Poonyawat_Woottisart/val_dataset_filtered/th-output/crop/test00258.png: (529, 117, 3) - 144\n",
            "gdrive/MyDrive/NewThesis_Poonyawat_Woottisart/val_dataset_filtered/th-output/crop/test00260.png: (483, 208, 3) - 145\n",
            "gdrive/MyDrive/NewThesis_Poonyawat_Woottisart/val_dataset_filtered/th-output/crop/test00262.png: (307, 280, 3) - 146\n",
            "gdrive/MyDrive/NewThesis_Poonyawat_Woottisart/val_dataset_filtered/th-output/crop/test00261.png: (295, 146, 3) - 147\n",
            "gdrive/MyDrive/NewThesis_Poonyawat_Woottisart/val_dataset_filtered/th-output/crop/test00263.png: (290, 271, 3) - 148\n",
            "gdrive/MyDrive/NewThesis_Poonyawat_Woottisart/val_dataset_filtered/th-output/crop/test00264.png: (737, 273, 3) - 149\n",
            "gdrive/MyDrive/NewThesis_Poonyawat_Woottisart/val_dataset_filtered/th-output/crop/test00266.png: (512, 247, 3) - 150\n",
            "gdrive/MyDrive/NewThesis_Poonyawat_Woottisart/val_dataset_filtered/th-output/crop/test00269.png: (842, 340, 3) - 151\n",
            "gdrive/MyDrive/NewThesis_Poonyawat_Woottisart/val_dataset_filtered/th-output/crop/test00270.png: (534, 345, 3) - 152\n",
            "gdrive/MyDrive/NewThesis_Poonyawat_Woottisart/val_dataset_filtered/th-output/crop/test00268.png: (612, 398, 3) - 153\n",
            "gdrive/MyDrive/NewThesis_Poonyawat_Woottisart/val_dataset_filtered/th-output/crop/test00271.png: (629, 235, 3) - 154\n",
            "gdrive/MyDrive/NewThesis_Poonyawat_Woottisart/val_dataset_filtered/th-output/crop/test00272.png: (276, 202, 3) - 155\n",
            "gdrive/MyDrive/NewThesis_Poonyawat_Woottisart/val_dataset_filtered/th-output/crop/test00273.png: (576, 329, 3) - 156\n",
            "gdrive/MyDrive/NewThesis_Poonyawat_Woottisart/val_dataset_filtered/th-output/crop/test00274.png: (754, 242, 3) - 157\n",
            "gdrive/MyDrive/NewThesis_Poonyawat_Woottisart/val_dataset_filtered/th-output/crop/test00276.png: (719, 418, 3) - 158\n",
            "gdrive/MyDrive/NewThesis_Poonyawat_Woottisart/val_dataset_filtered/th-output/crop/test00278.png: (514, 462, 3) - 159\n",
            "gdrive/MyDrive/NewThesis_Poonyawat_Woottisart/val_dataset_filtered/th-output/crop/test00281.png: (855, 507, 3) - 160\n",
            "gdrive/MyDrive/NewThesis_Poonyawat_Woottisart/val_dataset_filtered/th-output/crop/test00280.png: (748, 353, 3) - 161\n",
            "gdrive/MyDrive/NewThesis_Poonyawat_Woottisart/val_dataset_filtered/th-output/crop/test00285.png: (760, 258, 3) - 162\n",
            "gdrive/MyDrive/NewThesis_Poonyawat_Woottisart/val_dataset_filtered/th-output/crop/test00283.png: (203, 162, 3) - 163\n",
            "gdrive/MyDrive/NewThesis_Poonyawat_Woottisart/val_dataset_filtered/th-output/crop/test00286.png: (775, 529, 3) - 164\n",
            "gdrive/MyDrive/NewThesis_Poonyawat_Woottisart/val_dataset_filtered/th-output/crop/test00287.png: (330, 194, 3) - 165\n",
            "gdrive/MyDrive/NewThesis_Poonyawat_Woottisart/val_dataset_filtered/th-output/crop/test00288.png: (389, 174, 3) - 166\n",
            "gdrive/MyDrive/NewThesis_Poonyawat_Woottisart/val_dataset_filtered/th-output/crop/test00290.png: (228, 223, 3) - 167\n",
            "gdrive/MyDrive/NewThesis_Poonyawat_Woottisart/val_dataset_filtered/th-output/crop/test00292.png: (835, 411, 3) - 168\n",
            "gdrive/MyDrive/NewThesis_Poonyawat_Woottisart/val_dataset_filtered/th-output/crop/test00293.png: (525, 270, 3) - 169\n",
            "gdrive/MyDrive/NewThesis_Poonyawat_Woottisart/val_dataset_filtered/th-output/crop/test00291.png: (250, 270, 3) - 170\n",
            "gdrive/MyDrive/NewThesis_Poonyawat_Woottisart/val_dataset_filtered/th-output/crop/test00297.png: (668, 382, 3) - 171\n",
            "gdrive/MyDrive/NewThesis_Poonyawat_Woottisart/val_dataset_filtered/th-output/crop/test00298.png: (780, 389, 3) - 172\n",
            "gdrive/MyDrive/NewThesis_Poonyawat_Woottisart/val_dataset_filtered/th-output/crop/test00305.png: (649, 225, 3) - 173\n",
            "gdrive/MyDrive/NewThesis_Poonyawat_Woottisart/val_dataset_filtered/th-output/crop/test00303.png: (265, 232, 3) - 174\n",
            "gdrive/MyDrive/NewThesis_Poonyawat_Woottisart/val_dataset_filtered/th-output/crop/test00312.png: (807, 237, 3) - 175\n",
            "gdrive/MyDrive/NewThesis_Poonyawat_Woottisart/val_dataset_filtered/th-output/crop/test00306.png: (490, 194, 3) - 176\n",
            "gdrive/MyDrive/NewThesis_Poonyawat_Woottisart/val_dataset_filtered/th-output/crop/test00311.png: (776, 262, 3) - 177\n",
            "gdrive/MyDrive/NewThesis_Poonyawat_Woottisart/val_dataset_filtered/th-output/crop/test00315.png: (530, 263, 3) - 178\n",
            "gdrive/MyDrive/NewThesis_Poonyawat_Woottisart/val_dataset_filtered/th-output/crop/test00313.png: (343, 274, 3) - 179\n",
            "gdrive/MyDrive/NewThesis_Poonyawat_Woottisart/val_dataset_filtered/th-output/crop/test00314.png: (690, 160, 3) - 180\n",
            "gdrive/MyDrive/NewThesis_Poonyawat_Woottisart/val_dataset_filtered/th-output/crop/test00316.png: (236, 218, 3) - 181\n",
            "gdrive/MyDrive/NewThesis_Poonyawat_Woottisart/val_dataset_filtered/th-output/crop/test00317.png: (257, 172, 3) - 182\n",
            "gdrive/MyDrive/NewThesis_Poonyawat_Woottisart/val_dataset_filtered/th-output/crop/test00318.png: (337, 356, 3) - 183\n",
            "gdrive/MyDrive/NewThesis_Poonyawat_Woottisart/val_dataset_filtered/th-output/crop/test00320.png: (944, 565, 3) - 184\n",
            "gdrive/MyDrive/NewThesis_Poonyawat_Woottisart/val_dataset_filtered/th-output/crop/test00321.png: (743, 359, 3) - 185\n"
          ]
        }
      ],
      "source": [
        "for img_name in list(os.listdir(img_th_loc)):\n",
        "    img_loc = '{}/{}'.format(img_th_loc, img_name)\n",
        "    img = cv2.imread(img_loc)\n",
        "    print('{}: {} - {}'.format(img_loc, img.shape, idx))\n",
        "    dim_i_list.append(img.shape[0])\n",
        "    dim_j_list.append(img.shape[1])\n",
        "    img_list.append(img)\n",
        "    label_list.append(0)\n",
        "    idx = idx+1"
      ],
      "id": "ffb1f37b"
    },
    {
      "cell_type": "markdown",
      "metadata": {
        "id": "810aedca"
      },
      "source": [
        "#### KAWAII"
      ],
      "id": "810aedca"
    },
    {
      "cell_type": "code",
      "execution_count": 10,
      "metadata": {
        "colab": {
          "base_uri": "https://localhost:8080/"
        },
        "id": "a2fc6563",
        "outputId": "95ed90b8-e793-421a-e414-d3ee444ae9a6"
      },
      "outputs": [
        {
          "output_type": "stream",
          "name": "stdout",
          "text": [
            "gdrive/MyDrive/NewThesis_Poonyawat_Woottisart/val_dataset_filtered/ha-output/crop/test00000.png: (234, 120, 3) - 186\n",
            "gdrive/MyDrive/NewThesis_Poonyawat_Woottisart/val_dataset_filtered/ha-output/crop/test00001.png: (388, 267, 3) - 187\n",
            "gdrive/MyDrive/NewThesis_Poonyawat_Woottisart/val_dataset_filtered/ha-output/crop/test00004.png: (582, 238, 3) - 188\n",
            "gdrive/MyDrive/NewThesis_Poonyawat_Woottisart/val_dataset_filtered/ha-output/crop/test00007.png: (476, 399, 3) - 189\n",
            "gdrive/MyDrive/NewThesis_Poonyawat_Woottisart/val_dataset_filtered/ha-output/crop/test00002.png: (622, 278, 3) - 190\n",
            "gdrive/MyDrive/NewThesis_Poonyawat_Woottisart/val_dataset_filtered/ha-output/crop/test00008.png: (498, 309, 3) - 191\n",
            "gdrive/MyDrive/NewThesis_Poonyawat_Woottisart/val_dataset_filtered/ha-output/crop/test00012.png: (313, 252, 3) - 192\n",
            "gdrive/MyDrive/NewThesis_Poonyawat_Woottisart/val_dataset_filtered/ha-output/crop/test00011.png: (191, 277, 3) - 193\n",
            "gdrive/MyDrive/NewThesis_Poonyawat_Woottisart/val_dataset_filtered/ha-output/crop/test00013.png: (260, 182, 3) - 194\n",
            "gdrive/MyDrive/NewThesis_Poonyawat_Woottisart/val_dataset_filtered/ha-output/crop/test00018.png: (617, 244, 3) - 195\n",
            "gdrive/MyDrive/NewThesis_Poonyawat_Woottisart/val_dataset_filtered/ha-output/crop/test00015.png: (446, 305, 3) - 196\n",
            "gdrive/MyDrive/NewThesis_Poonyawat_Woottisart/val_dataset_filtered/ha-output/crop/test00016.png: (539, 270, 3) - 197\n",
            "gdrive/MyDrive/NewThesis_Poonyawat_Woottisart/val_dataset_filtered/ha-output/crop/test00014.png: (617, 244, 3) - 198\n",
            "gdrive/MyDrive/NewThesis_Poonyawat_Woottisart/val_dataset_filtered/ha-output/crop/test00022.png: (476, 260, 3) - 199\n",
            "gdrive/MyDrive/NewThesis_Poonyawat_Woottisart/val_dataset_filtered/ha-output/crop/test00019.png: (550, 281, 3) - 200\n",
            "gdrive/MyDrive/NewThesis_Poonyawat_Woottisart/val_dataset_filtered/ha-output/crop/test00021.png: (248, 263, 3) - 201\n",
            "gdrive/MyDrive/NewThesis_Poonyawat_Woottisart/val_dataset_filtered/ha-output/crop/test00020.png: (350, 342, 3) - 202\n",
            "gdrive/MyDrive/NewThesis_Poonyawat_Woottisart/val_dataset_filtered/ha-output/crop/test00023.png: (425, 291, 3) - 203\n",
            "gdrive/MyDrive/NewThesis_Poonyawat_Woottisart/val_dataset_filtered/ha-output/crop/test00025.png: (486, 279, 3) - 204\n",
            "gdrive/MyDrive/NewThesis_Poonyawat_Woottisart/val_dataset_filtered/ha-output/crop/test00024.png: (486, 279, 3) - 205\n",
            "gdrive/MyDrive/NewThesis_Poonyawat_Woottisart/val_dataset_filtered/ha-output/crop/test00029.png: (351, 220, 3) - 206\n",
            "gdrive/MyDrive/NewThesis_Poonyawat_Woottisart/val_dataset_filtered/ha-output/crop/test00030.png: (531, 267, 3) - 207\n",
            "gdrive/MyDrive/NewThesis_Poonyawat_Woottisart/val_dataset_filtered/ha-output/crop/test00027.png: (686, 254, 3) - 208\n",
            "gdrive/MyDrive/NewThesis_Poonyawat_Woottisart/val_dataset_filtered/ha-output/crop/test00028.png: (434, 249, 3) - 209\n",
            "gdrive/MyDrive/NewThesis_Poonyawat_Woottisart/val_dataset_filtered/ha-output/crop/test00026.png: (529, 251, 3) - 210\n",
            "gdrive/MyDrive/NewThesis_Poonyawat_Woottisart/val_dataset_filtered/ha-output/crop/test00031.png: (367, 233, 3) - 211\n",
            "gdrive/MyDrive/NewThesis_Poonyawat_Woottisart/val_dataset_filtered/ha-output/crop/test00036.png: (647, 215, 3) - 212\n",
            "gdrive/MyDrive/NewThesis_Poonyawat_Woottisart/val_dataset_filtered/ha-output/crop/test00035.png: (603, 228, 3) - 213\n",
            "gdrive/MyDrive/NewThesis_Poonyawat_Woottisart/val_dataset_filtered/ha-output/crop/test00032.png: (660, 251, 3) - 214\n",
            "gdrive/MyDrive/NewThesis_Poonyawat_Woottisart/val_dataset_filtered/ha-output/crop/test00033.png: (512, 268, 3) - 215\n",
            "gdrive/MyDrive/NewThesis_Poonyawat_Woottisart/val_dataset_filtered/ha-output/crop/test00046.png: (364, 197, 3) - 216\n",
            "gdrive/MyDrive/NewThesis_Poonyawat_Woottisart/val_dataset_filtered/ha-output/crop/test00037.png: (440, 250, 3) - 217\n",
            "gdrive/MyDrive/NewThesis_Poonyawat_Woottisart/val_dataset_filtered/ha-output/crop/test00042.png: (495, 322, 3) - 218\n",
            "gdrive/MyDrive/NewThesis_Poonyawat_Woottisart/val_dataset_filtered/ha-output/crop/test00045.png: (213, 155, 3) - 219\n",
            "gdrive/MyDrive/NewThesis_Poonyawat_Woottisart/val_dataset_filtered/ha-output/crop/test00043.png: (343, 327, 3) - 220\n",
            "gdrive/MyDrive/NewThesis_Poonyawat_Woottisart/val_dataset_filtered/ha-output/crop/test00051.png: (419, 289, 3) - 221\n",
            "gdrive/MyDrive/NewThesis_Poonyawat_Woottisart/val_dataset_filtered/ha-output/crop/test00050.png: (640, 297, 3) - 222\n",
            "gdrive/MyDrive/NewThesis_Poonyawat_Woottisart/val_dataset_filtered/ha-output/crop/test00048.png: (511, 315, 3) - 223\n",
            "gdrive/MyDrive/NewThesis_Poonyawat_Woottisart/val_dataset_filtered/ha-output/crop/test00047.png: (501, 228, 3) - 224\n",
            "gdrive/MyDrive/NewThesis_Poonyawat_Woottisart/val_dataset_filtered/ha-output/crop/test00060.png: (340, 254, 3) - 225\n",
            "gdrive/MyDrive/NewThesis_Poonyawat_Woottisart/val_dataset_filtered/ha-output/crop/test00059.png: (446, 475, 3) - 226\n",
            "gdrive/MyDrive/NewThesis_Poonyawat_Woottisart/val_dataset_filtered/ha-output/crop/test00058.png: (561, 304, 3) - 227\n",
            "gdrive/MyDrive/NewThesis_Poonyawat_Woottisart/val_dataset_filtered/ha-output/crop/test00057.png: (494, 244, 3) - 228\n",
            "gdrive/MyDrive/NewThesis_Poonyawat_Woottisart/val_dataset_filtered/ha-output/crop/test00055.png: (351, 251, 3) - 229\n",
            "gdrive/MyDrive/NewThesis_Poonyawat_Woottisart/val_dataset_filtered/ha-output/crop/test00054.png: (607, 325, 3) - 230\n",
            "gdrive/MyDrive/NewThesis_Poonyawat_Woottisart/val_dataset_filtered/ha-output/crop/test00072.png: (623, 275, 3) - 231\n",
            "gdrive/MyDrive/NewThesis_Poonyawat_Woottisart/val_dataset_filtered/ha-output/crop/test00062.png: (370, 185, 3) - 232\n",
            "gdrive/MyDrive/NewThesis_Poonyawat_Woottisart/val_dataset_filtered/ha-output/crop/test00063.png: (501, 225, 3) - 233\n",
            "gdrive/MyDrive/NewThesis_Poonyawat_Woottisart/val_dataset_filtered/ha-output/crop/test00061.png: (305, 247, 3) - 234\n",
            "gdrive/MyDrive/NewThesis_Poonyawat_Woottisart/val_dataset_filtered/ha-output/crop/test00078.png: (390, 325, 3) - 235\n",
            "gdrive/MyDrive/NewThesis_Poonyawat_Woottisart/val_dataset_filtered/ha-output/crop/test00073.png: (573, 265, 3) - 236\n",
            "gdrive/MyDrive/NewThesis_Poonyawat_Woottisart/val_dataset_filtered/ha-output/crop/test00077.png: (482, 249, 3) - 237\n",
            "gdrive/MyDrive/NewThesis_Poonyawat_Woottisart/val_dataset_filtered/ha-output/crop/test00088.png: (521, 275, 3) - 238\n",
            "gdrive/MyDrive/NewThesis_Poonyawat_Woottisart/val_dataset_filtered/ha-output/crop/test00090.png: (236, 176, 3) - 239\n",
            "gdrive/MyDrive/NewThesis_Poonyawat_Woottisart/val_dataset_filtered/ha-output/crop/test00080.png: (584, 222, 3) - 240\n",
            "gdrive/MyDrive/NewThesis_Poonyawat_Woottisart/val_dataset_filtered/ha-output/crop/test00089.png: (602, 256, 3) - 241\n",
            "gdrive/MyDrive/NewThesis_Poonyawat_Woottisart/val_dataset_filtered/ha-output/crop/test00087.png: (499, 232, 3) - 242\n",
            "gdrive/MyDrive/NewThesis_Poonyawat_Woottisart/val_dataset_filtered/ha-output/crop/test00094.png: (455, 260, 3) - 243\n",
            "gdrive/MyDrive/NewThesis_Poonyawat_Woottisart/val_dataset_filtered/ha-output/crop/test00091.png: (561, 331, 3) - 244\n",
            "gdrive/MyDrive/NewThesis_Poonyawat_Woottisart/val_dataset_filtered/ha-output/crop/test00093.png: (347, 291, 3) - 245\n",
            "gdrive/MyDrive/NewThesis_Poonyawat_Woottisart/val_dataset_filtered/ha-output/crop/test00092.png: (544, 306, 3) - 246\n",
            "gdrive/MyDrive/NewThesis_Poonyawat_Woottisart/val_dataset_filtered/ha-output/crop/test00095.png: (545, 300, 3) - 247\n",
            "gdrive/MyDrive/NewThesis_Poonyawat_Woottisart/val_dataset_filtered/ha-output/crop/test00105.png: (581, 234, 3) - 248\n",
            "gdrive/MyDrive/NewThesis_Poonyawat_Woottisart/val_dataset_filtered/ha-output/crop/test00099.png: (438, 299, 3) - 249\n",
            "gdrive/MyDrive/NewThesis_Poonyawat_Woottisart/val_dataset_filtered/ha-output/crop/test00102.png: (685, 254, 3) - 250\n",
            "gdrive/MyDrive/NewThesis_Poonyawat_Woottisart/val_dataset_filtered/ha-output/crop/test00101.png: (649, 277, 3) - 251\n",
            "gdrive/MyDrive/NewThesis_Poonyawat_Woottisart/val_dataset_filtered/ha-output/crop/test00108.png: (578, 306, 3) - 252\n",
            "gdrive/MyDrive/NewThesis_Poonyawat_Woottisart/val_dataset_filtered/ha-output/crop/test00114.png: (401, 264, 3) - 253\n",
            "gdrive/MyDrive/NewThesis_Poonyawat_Woottisart/val_dataset_filtered/ha-output/crop/test00113.png: (531, 340, 3) - 254\n",
            "gdrive/MyDrive/NewThesis_Poonyawat_Woottisart/val_dataset_filtered/ha-output/crop/test00106.png: (414, 294, 3) - 255\n",
            "gdrive/MyDrive/NewThesis_Poonyawat_Woottisart/val_dataset_filtered/ha-output/crop/test00115.png: (237, 226, 3) - 256\n",
            "gdrive/MyDrive/NewThesis_Poonyawat_Woottisart/val_dataset_filtered/ha-output/crop/test00120.png: (544, 218, 3) - 257\n",
            "gdrive/MyDrive/NewThesis_Poonyawat_Woottisart/val_dataset_filtered/ha-output/crop/test00116.png: (372, 204, 3) - 258\n",
            "gdrive/MyDrive/NewThesis_Poonyawat_Woottisart/val_dataset_filtered/ha-output/crop/test00118.png: (489, 237, 3) - 259\n",
            "gdrive/MyDrive/NewThesis_Poonyawat_Woottisart/val_dataset_filtered/ha-output/crop/test00117.png: (578, 239, 3) - 260\n",
            "gdrive/MyDrive/NewThesis_Poonyawat_Woottisart/val_dataset_filtered/ha-output/crop/test00119.png: (673, 228, 3) - 261\n",
            "gdrive/MyDrive/NewThesis_Poonyawat_Woottisart/val_dataset_filtered/ha-output/crop/test00121.png: (477, 266, 3) - 262\n",
            "gdrive/MyDrive/NewThesis_Poonyawat_Woottisart/val_dataset_filtered/ha-output/crop/test00122.png: (618, 295, 3) - 263\n",
            "gdrive/MyDrive/NewThesis_Poonyawat_Woottisart/val_dataset_filtered/ha-output/crop/test00131.png: (395, 314, 3) - 264\n",
            "gdrive/MyDrive/NewThesis_Poonyawat_Woottisart/val_dataset_filtered/ha-output/crop/test00138.png: (516, 248, 3) - 265\n",
            "gdrive/MyDrive/NewThesis_Poonyawat_Woottisart/val_dataset_filtered/ha-output/crop/test00137.png: (512, 312, 3) - 266\n",
            "gdrive/MyDrive/NewThesis_Poonyawat_Woottisart/val_dataset_filtered/ha-output/crop/test00136.png: (323, 338, 3) - 267\n",
            "gdrive/MyDrive/NewThesis_Poonyawat_Woottisart/val_dataset_filtered/ha-output/crop/test00141.png: (571, 246, 3) - 268\n",
            "gdrive/MyDrive/NewThesis_Poonyawat_Woottisart/val_dataset_filtered/ha-output/crop/test00140.png: (145, 188, 3) - 269\n",
            "gdrive/MyDrive/NewThesis_Poonyawat_Woottisart/val_dataset_filtered/ha-output/crop/test00139.png: (521, 275, 3) - 270\n",
            "gdrive/MyDrive/NewThesis_Poonyawat_Woottisart/val_dataset_filtered/ha-output/crop/test00142.png: (591, 276, 3) - 271\n",
            "gdrive/MyDrive/NewThesis_Poonyawat_Woottisart/val_dataset_filtered/ha-output/crop/test00145.png: (271, 210, 3) - 272\n",
            "gdrive/MyDrive/NewThesis_Poonyawat_Woottisart/val_dataset_filtered/ha-output/crop/test00143.png: (382, 262, 3) - 273\n",
            "gdrive/MyDrive/NewThesis_Poonyawat_Woottisart/val_dataset_filtered/ha-output/crop/test00155.png: (637, 272, 3) - 274\n",
            "gdrive/MyDrive/NewThesis_Poonyawat_Woottisart/val_dataset_filtered/ha-output/crop/test00156.png: (673, 401, 3) - 275\n",
            "gdrive/MyDrive/NewThesis_Poonyawat_Woottisart/val_dataset_filtered/ha-output/crop/test00159.png: (460, 274, 3) - 276\n",
            "gdrive/MyDrive/NewThesis_Poonyawat_Woottisart/val_dataset_filtered/ha-output/crop/test00161.png: (441, 166, 3) - 277\n",
            "gdrive/MyDrive/NewThesis_Poonyawat_Woottisart/val_dataset_filtered/ha-output/crop/test00162.png: (531, 233, 3) - 278\n",
            "gdrive/MyDrive/NewThesis_Poonyawat_Woottisart/val_dataset_filtered/ha-output/crop/test00160.png: (473, 259, 3) - 279\n",
            "gdrive/MyDrive/NewThesis_Poonyawat_Woottisart/val_dataset_filtered/ha-output/crop/test00164.png: (342, 290, 3) - 280\n",
            "gdrive/MyDrive/NewThesis_Poonyawat_Woottisart/val_dataset_filtered/ha-output/crop/test00171.png: (594, 237, 3) - 281\n",
            "gdrive/MyDrive/NewThesis_Poonyawat_Woottisart/val_dataset_filtered/ha-output/crop/test00166.png: (578, 282, 3) - 282\n",
            "gdrive/MyDrive/NewThesis_Poonyawat_Woottisart/val_dataset_filtered/ha-output/crop/test00167.png: (504, 323, 3) - 283\n",
            "gdrive/MyDrive/NewThesis_Poonyawat_Woottisart/val_dataset_filtered/ha-output/crop/test00169.png: (571, 292, 3) - 284\n",
            "gdrive/MyDrive/NewThesis_Poonyawat_Woottisart/val_dataset_filtered/ha-output/crop/test00170.png: (483, 285, 3) - 285\n",
            "gdrive/MyDrive/NewThesis_Poonyawat_Woottisart/val_dataset_filtered/ha-output/crop/test00165.png: (347, 250, 3) - 286\n",
            "gdrive/MyDrive/NewThesis_Poonyawat_Woottisart/val_dataset_filtered/ha-output/crop/test00179.png: (551, 256, 3) - 287\n",
            "gdrive/MyDrive/NewThesis_Poonyawat_Woottisart/val_dataset_filtered/ha-output/crop/test00177.png: (519, 305, 3) - 288\n",
            "gdrive/MyDrive/NewThesis_Poonyawat_Woottisart/val_dataset_filtered/ha-output/crop/test00172.png: (637, 272, 3) - 289\n",
            "gdrive/MyDrive/NewThesis_Poonyawat_Woottisart/val_dataset_filtered/ha-output/crop/test00174.png: (500, 246, 3) - 290\n",
            "gdrive/MyDrive/NewThesis_Poonyawat_Woottisart/val_dataset_filtered/ha-output/crop/test00178.png: (338, 270, 3) - 291\n"
          ]
        }
      ],
      "source": [
        "for img_name in list(os.listdir(img_jp_loc)):\n",
        "    img_loc = '{}/{}'.format(img_jp_loc, img_name)\n",
        "    img = cv2.imread(img_loc)\n",
        "    print('{}: {} - {}'.format(img_loc, img.shape, idx))\n",
        "    dim_i_list.append(img.shape[0])\n",
        "    dim_j_list.append(img.shape[1])\n",
        "    img_list.append(img)\n",
        "    label_list.append(1)\n",
        "    idx = idx+1"
      ],
      "id": "a2fc6563"
    },
    {
      "cell_type": "code",
      "execution_count": 11,
      "metadata": {
        "colab": {
          "base_uri": "https://localhost:8080/"
        },
        "id": "44ff630e",
        "outputId": "1aec8498-8b5a-4339-b4e0-bd04c53773de"
      },
      "outputs": [
        {
          "output_type": "execute_result",
          "data": {
            "text/plain": [
              "(518.472602739726, 190.7206482994075)"
            ]
          },
          "metadata": {},
          "execution_count": 11
        }
      ],
      "source": [
        "np.mean(dim_i_list), np.std(dim_i_list)"
      ],
      "id": "44ff630e"
    },
    {
      "cell_type": "code",
      "execution_count": 12,
      "metadata": {
        "colab": {
          "base_uri": "https://localhost:8080/"
        },
        "id": "82cee4a3",
        "outputId": "4a245071-7b18-44d5-fe09-06ea4b5dca84"
      },
      "outputs": [
        {
          "output_type": "execute_result",
          "data": {
            "text/plain": [
              "(303.78767123287673, 113.9774496384425)"
            ]
          },
          "metadata": {},
          "execution_count": 12
        }
      ],
      "source": [
        "np.mean(dim_j_list), np.std(dim_j_list)"
      ],
      "id": "82cee4a3"
    },
    {
      "cell_type": "code",
      "execution_count": 13,
      "metadata": {
        "colab": {
          "base_uri": "https://localhost:8080/"
        },
        "id": "6e8d0821",
        "outputId": "f123a197-16bf-4522-8617-dab5744b142e"
      },
      "outputs": [
        {
          "output_type": "execute_result",
          "data": {
            "text/plain": [
              "292"
            ]
          },
          "metadata": {},
          "execution_count": 13
        }
      ],
      "source": [
        "len(dim_i_list)"
      ],
      "id": "6e8d0821"
    },
    {
      "cell_type": "markdown",
      "source": [
        "### From testing set"
      ],
      "metadata": {
        "id": "l-NvwFIywmER"
      },
      "id": "l-NvwFIywmER"
    },
    {
      "cell_type": "code",
      "source": [
        "img_loc = \"gdrive/MyDrive/NewThesis_Poonyawat_Woottisart/Dataset_Filtered_new\"\n",
        "img_eu_loc = img_loc + '/eu-crop'\n",
        "img_jp_loc = img_loc + '/ha-crop'\n",
        "img_th_loc = img_loc + '/th-crop'"
      ],
      "metadata": {
        "id": "3IzetykDvVf5"
      },
      "id": "3IzetykDvVf5",
      "execution_count": 14,
      "outputs": []
    },
    {
      "cell_type": "code",
      "source": [
        "img_list_test = []\n",
        "# TH\n",
        "img_name = 'test00066.png'\n",
        "img_loc = '{}/{}'.format(img_th_loc, img_name)\n",
        "img = cv2.imread(img_loc)\n",
        "print('{}'.format(img_loc))\n",
        "img_list_test.append(img)\n",
        "# JP\n",
        "img_name = 'test00011.png'\n",
        "img_loc = '{}/{}'.format(img_jp_loc, img_name)\n",
        "img = cv2.imread(img_loc)\n",
        "print('{}'.format(img_loc))\n",
        "img_list_test.append(img)\n",
        "# EU\n",
        "img_name = 'test00000.png'\n",
        "img_loc = '{}/{}'.format(img_eu_loc, img_name)\n",
        "img = cv2.imread(img_loc)\n",
        "print('{}'.format(img_loc))\n",
        "img_list_test.append(img)"
      ],
      "metadata": {
        "colab": {
          "base_uri": "https://localhost:8080/"
        },
        "id": "1mVXEV8dvebw",
        "outputId": "a81f5698-516b-47a7-bc89-9a7ec2e5d5a2"
      },
      "id": "1mVXEV8dvebw",
      "execution_count": 15,
      "outputs": [
        {
          "output_type": "stream",
          "name": "stdout",
          "text": [
            "gdrive/MyDrive/NewThesis_Poonyawat_Woottisart/Dataset_Filtered_new/th-crop/test00066.png\n",
            "gdrive/MyDrive/NewThesis_Poonyawat_Woottisart/Dataset_Filtered_new/ha-crop/test00011.png\n",
            "gdrive/MyDrive/NewThesis_Poonyawat_Woottisart/Dataset_Filtered_new/eu-crop/test00000.png\n"
          ]
        }
      ]
    },
    {
      "cell_type": "markdown",
      "metadata": {
        "id": "ECmk6mpY_Gil"
      },
      "source": [
        "# Image Scaling"
      ],
      "id": "ECmk6mpY_Gil"
    },
    {
      "cell_type": "code",
      "execution_count": 16,
      "metadata": {
        "id": "dfafcd73"
      },
      "outputs": [],
      "source": [
        "h = 400\n",
        "w = 160\n",
        "\n",
        "img_scaling = [np.zeros(shape=(h, w, 3)) for i in range(len(img_list))]\n",
        "img_scaling_test = [np.zeros(shape=(h, w, 3)) for i in range(len(img_list_test))]\n",
        "for i in range(len(img_list)):\n",
        "    img_scaling[i] = cv2.resize(img_list[i], dsize=(w, h), interpolation = cv2.INTER_CUBIC)\n",
        "for i in range(len(img_list_test)):\n",
        "    img_scaling_test[i] = cv2.resize(img_list_test[i], dsize=(w, h), interpolation = cv2.INTER_CUBIC)\n",
        "    "
      ],
      "id": "dfafcd73"
    },
    {
      "cell_type": "code",
      "execution_count": 17,
      "metadata": {
        "colab": {
          "base_uri": "https://localhost:8080/"
        },
        "id": "f4dc8ad9",
        "outputId": "601ce94a-10f8-4160-b313-35e3e455358f"
      },
      "outputs": [
        {
          "output_type": "execute_result",
          "data": {
            "text/plain": [
              "(292, 292)"
            ]
          },
          "metadata": {},
          "execution_count": 17
        }
      ],
      "source": [
        "len(img_scaling), len(label_list)"
      ],
      "id": "f4dc8ad9"
    },
    {
      "cell_type": "code",
      "execution_count": 18,
      "metadata": {
        "id": "JcCewjsVBwQh"
      },
      "outputs": [],
      "source": [
        "sample_test_jp = img_scaling[203]\n",
        "sample_test_th = img_scaling[92]\n",
        "\n",
        "sample_test_th_test = img_scaling_test[0]\n",
        "sample_test_jp_test = img_scaling_test[1]\n",
        "sample_test_eu_test = img_scaling_test[2]"
      ],
      "id": "JcCewjsVBwQh"
    },
    {
      "cell_type": "code",
      "execution_count": 19,
      "metadata": {
        "colab": {
          "base_uri": "https://localhost:8080/"
        },
        "id": "ef89240f",
        "outputId": "aa5fd811-1044-4229-df48-049c0d3f4506"
      },
      "outputs": [
        {
          "output_type": "execute_result",
          "data": {
            "text/plain": [
              "(292, 400, 160, 3)"
            ]
          },
          "metadata": {},
          "execution_count": 19
        }
      ],
      "source": [
        "len(img_scaling), len(img_scaling[0]), len(img_scaling[0][0]), len(img_scaling[0][0][0])"
      ],
      "id": "ef89240f"
    },
    {
      "cell_type": "code",
      "execution_count": 19,
      "metadata": {
        "id": "4ca64f76"
      },
      "outputs": [],
      "source": [
        ""
      ],
      "id": "4ca64f76"
    },
    {
      "cell_type": "markdown",
      "metadata": {
        "id": "KLVNjdGLBqTf"
      },
      "source": [
        "# Functions"
      ],
      "id": "KLVNjdGLBqTf"
    },
    {
      "cell_type": "code",
      "execution_count": 20,
      "metadata": {
        "id": "0fedef05"
      },
      "outputs": [],
      "source": [
        "# network creating from given parameter\n",
        "# input: \n",
        "#       number of layers in network (integer), \n",
        "#       list of infomation for each layer (list of dictionaries), \n",
        "#       list of number of nodes for each dense layer (list of integer(s)), \n",
        "#       (optional) list of pooling type for each layer (list of string)\n",
        "# output: \n",
        "#       network topology\n",
        "\n",
        "def gen_network(n_layers, layers_list, dense_layer_node_list, pooling_set=None): \n",
        "    \n",
        "    # layer_list = list of layers those combined with n_node, padding, activation_fn\n",
        "    \n",
        "    return_network = [layers.Rescaling(1./255, input_shape=(h, w, 3))]\n",
        "    \n",
        "    # Convolutional Neural Network\n",
        "    \n",
        "    for i in range(n_layers):\n",
        "        temp_conv = layers.Conv2D(layers_list[i]['n_node'], 3, padding=layers_list[i]['padding'], activation=layers_list[i]['activ_fn'])\n",
        "        return_network.append(temp_conv)\n",
        "        if(pooling_set==None):\n",
        "            temp_pooling = layers.MaxPooling2D()\n",
        "        return_network.append(temp_pooling)\n",
        "    \n",
        "    # Dense Layer\n",
        "    \n",
        "    return_network.append(layers.Flatten())\n",
        "    \n",
        "    for n_node_dense in dense_layer_node_list:\n",
        "        temp_dense = layers.Dense(n_node_dense, activation='relu')\n",
        "        return_network.append(temp_dense)\n",
        "        \n",
        "    return_network.append(layers.Dense(2))\n",
        "    \n",
        "    return return_network"
      ],
      "id": "0fedef05"
    },
    {
      "cell_type": "code",
      "execution_count": 21,
      "metadata": {
        "id": "UvowazGoatzI"
      },
      "outputs": [],
      "source": [
        "# get model and model parameter from checkpoint\n",
        "# input: filename (string)\n",
        "# output: set of model parameters, model\n",
        "\n",
        "def get_prev_model(filename):\n",
        "\n",
        "    f = open('gdrive/MyDrive/Colab Notebooks/checkpoints_crop/{}.txt'.format(filename), 'r')\n",
        "\n",
        "    paramList = []\n",
        "\n",
        "    for line in f:\n",
        "        tmp = line.replace('\\\\n', '')\n",
        "        paramList.append(line)\n",
        "\n",
        "    f.close()\n",
        "\n",
        "    tmp = paramList[1].strip('][').split(', ')\n",
        "    paramList[1] = [None for i in range(len(tmp))]\n",
        "    for i in range(len(tmp)):\n",
        "        if(i%3==0):\n",
        "            paramList[1][i] = tmp[i].split(': ')[1].replace('}', '')\n",
        "        else:\n",
        "            paramList[1][i] = tmp[i].split(': ')[1].replace('}', '').split('\\'')[1]\n",
        "    paramList[1][-1] = paramList[1][-1].split(']')[0]\n",
        "\n",
        "    tmp = []\n",
        "    idx = 0\n",
        "    while(idx<len(paramList[1])):\n",
        "        tmp.append({'n_node': int(paramList[1][idx]), 'padding': paramList[1][idx+1], 'activ_fn': paramList[1][idx+2]})\n",
        "        idx = idx+3\n",
        "    paramList[1] = tmp.copy()\n",
        "\n",
        "    tmp = paramList[2].strip('][').split(', ')\n",
        "    paramList[2] = []\n",
        "    for i in range(len(tmp)-1):\n",
        "        paramList[2].append(int(tmp[0]))\n",
        "    paramList[2].append(int(tmp[-1].split(']')[0]))\n",
        "\n",
        "    param_prev = np.array([int(paramList[0]), paramList[1], paramList[2]])\n",
        "\n",
        "    net = gen_network(n_layers=int(paramList[0]), layers_list=paramList[1], dense_layer_node_list=paramList[2])\n",
        "    model_prev = Sequential(net)\n",
        "    model_prev.compile(optimizer='adam',\n",
        "                  loss=tf.keras.losses.SparseCategoricalCrossentropy(from_logits=True),\n",
        "                  metrics=['binary_accuracy'])\n",
        "    model_prev.load_weights('gdrive/MyDrive/Colab Notebooks/checkpoints_crop/{}'.format(filename))\n",
        "\n",
        "    return param_prev, model_prev"
      ],
      "id": "UvowazGoatzI"
    },
    {
      "cell_type": "markdown",
      "metadata": {
        "id": "i0wEYLaaUMGU"
      },
      "source": [
        "# Run"
      ],
      "id": "i0wEYLaaUMGU"
    },
    {
      "cell_type": "code",
      "execution_count": 22,
      "metadata": {
        "id": "RbgAWaGKU0m5",
        "colab": {
          "base_uri": "https://localhost:8080/"
        },
        "outputId": "92be4b91-49ae-4750-9fc7-069d98681a27"
      },
      "outputs": [
        {
          "output_type": "stream",
          "name": "stderr",
          "text": [
            "/usr/local/lib/python3.7/dist-packages/ipykernel_launcher.py:39: VisibleDeprecationWarning: Creating an ndarray from ragged nested sequences (which is a list-or-tuple of lists-or-tuples-or ndarrays with different lengths or shapes) is deprecated. If you meant to do this, you must specify 'dtype=object' when creating the ndarray.\n"
          ]
        }
      ],
      "source": [
        "best_param, best_model = get_prev_model('best_model')"
      ],
      "id": "RbgAWaGKU0m5"
    },
    {
      "cell_type": "markdown",
      "metadata": {
        "id": "g76j9n49U1Qr"
      },
      "source": [
        "# Final Evaluation"
      ],
      "id": "g76j9n49U1Qr"
    },
    {
      "cell_type": "code",
      "execution_count": 23,
      "metadata": {
        "id": "tv8OWj1AVRCZ"
      },
      "outputs": [],
      "source": [
        "# model evaluation process \n",
        "# input: model, list of testing images (list of image arrays), list of labels (list of integers (classes))\n",
        "# output: -\n",
        "\n",
        "def evaluate_final(model, x_test, y_test):\n",
        "    # model.evaluate(x_test, y_test, verbose=2)\n",
        "\n",
        "    probability_model = tf.keras.Sequential([\n",
        "                                             model,\n",
        "                                             tf.keras.layers.Softmax()])\n",
        "    x_test = np.array(x_test, ndmin=4)\n",
        "    pred_prob = probability_model(x_test).numpy()\n",
        "    \n",
        "    pred_class = []\n",
        "    for i in range(len(pred_prob)):\n",
        "        pred_class.append(np.where(pred_prob[i][0]>pred_prob[i][1], 0, 1))\n",
        "        print('Actual: {} | Predicted: {} | Prob class 1: {}'.format(y_test[i], pred_class[i], pred_prob[i][1]))\n",
        "    print(confusion_matrix(y_test, pred_class))\n",
        "    acc_score = accuracy_score(y_test, pred_class)\n",
        "    prec_score = precision_score(y_test, pred_class)\n",
        "    rec_score = recall_score(y_test, pred_class)\n",
        "    print('accuracy_score: {}'.format(acc_score))\n",
        "    print('precision_score: {}'.format(prec_score))\n",
        "    print('recall_score: {}'.format(rec_score))\n",
        "\n",
        "    if((prec_score==0)&(rec_score==0)):\n",
        "        f1_score = 0\n",
        "    else:\n",
        "        f1_score = 2*prec_score*rec_score/(prec_score+rec_score)\n"
      ],
      "id": "tv8OWj1AVRCZ"
    },
    {
      "cell_type": "code",
      "source": [
        "best_model.summary()"
      ],
      "metadata": {
        "colab": {
          "base_uri": "https://localhost:8080/"
        },
        "id": "r4N7dczUCr0j",
        "outputId": "d1bae195-a073-4a23-8629-504c92a1f8cd"
      },
      "id": "r4N7dczUCr0j",
      "execution_count": 24,
      "outputs": [
        {
          "output_type": "stream",
          "name": "stdout",
          "text": [
            "Model: \"sequential\"\n",
            "_________________________________________________________________\n",
            " Layer (type)                Output Shape              Param #   \n",
            "=================================================================\n",
            " rescaling (Rescaling)       (None, 400, 160, 3)       0         \n",
            "                                                                 \n",
            " conv2d (Conv2D)             (None, 400, 160, 16)      448       \n",
            "                                                                 \n",
            " max_pooling2d (MaxPooling2D  (None, 200, 80, 16)      0         \n",
            " )                                                               \n",
            "                                                                 \n",
            " conv2d_1 (Conv2D)           (None, 200, 80, 20)       2900      \n",
            "                                                                 \n",
            " max_pooling2d_1 (MaxPooling  (None, 100, 40, 20)      0         \n",
            " 2D)                                                             \n",
            "                                                                 \n",
            " conv2d_2 (Conv2D)           (None, 100, 40, 8)        1448      \n",
            "                                                                 \n",
            " max_pooling2d_2 (MaxPooling  (None, 50, 20, 8)        0         \n",
            " 2D)                                                             \n",
            "                                                                 \n",
            " conv2d_3 (Conv2D)           (None, 50, 20, 16)        1168      \n",
            "                                                                 \n",
            " max_pooling2d_3 (MaxPooling  (None, 25, 10, 16)       0         \n",
            " 2D)                                                             \n",
            "                                                                 \n",
            " flatten (Flatten)           (None, 4000)              0         \n",
            "                                                                 \n",
            " dense (Dense)               (None, 8)                 32008     \n",
            "                                                                 \n",
            " dense_1 (Dense)             (None, 4)                 36        \n",
            "                                                                 \n",
            " dense_2 (Dense)             (None, 2)                 10        \n",
            "                                                                 \n",
            "=================================================================\n",
            "Total params: 38,018\n",
            "Trainable params: 38,018\n",
            "Non-trainable params: 0\n",
            "_________________________________________________________________\n"
          ]
        }
      ]
    },
    {
      "cell_type": "code",
      "execution_count": 25,
      "metadata": {
        "id": "gOoqLKtRfzZ-",
        "colab": {
          "base_uri": "https://localhost:8080/"
        },
        "outputId": "31334cf8-3979-4925-c59d-279418f13236"
      },
      "outputs": [
        {
          "output_type": "stream",
          "name": "stdout",
          "text": [
            "Actual: 0 | Predicted: 0 | Prob class 1: 0.22360020875930786\n",
            "Actual: 0 | Predicted: 0 | Prob class 1: 0.04416368901729584\n",
            "Actual: 0 | Predicted: 0 | Prob class 1: 0.24403701722621918\n",
            "Actual: 0 | Predicted: 1 | Prob class 1: 0.8884128928184509\n",
            "Actual: 0 | Predicted: 0 | Prob class 1: 0.21783451735973358\n",
            "Actual: 0 | Predicted: 1 | Prob class 1: 0.6560224294662476\n",
            "Actual: 0 | Predicted: 0 | Prob class 1: 0.18902571499347687\n",
            "Actual: 0 | Predicted: 0 | Prob class 1: 0.0016083132941275835\n",
            "Actual: 0 | Predicted: 0 | Prob class 1: 0.12225527316331863\n",
            "Actual: 0 | Predicted: 0 | Prob class 1: 0.06027277559041977\n",
            "Actual: 0 | Predicted: 0 | Prob class 1: 0.3061928451061249\n",
            "Actual: 0 | Predicted: 0 | Prob class 1: 0.08679144829511642\n",
            "Actual: 0 | Predicted: 0 | Prob class 1: 0.39950743317604065\n",
            "Actual: 0 | Predicted: 0 | Prob class 1: 0.0006467806524597108\n",
            "Actual: 0 | Predicted: 0 | Prob class 1: 0.0690225288271904\n",
            "Actual: 0 | Predicted: 0 | Prob class 1: 0.07624117285013199\n",
            "Actual: 0 | Predicted: 0 | Prob class 1: 0.06459738314151764\n",
            "Actual: 0 | Predicted: 0 | Prob class 1: 0.057120222598314285\n",
            "Actual: 0 | Predicted: 0 | Prob class 1: 0.031274016946554184\n",
            "Actual: 0 | Predicted: 0 | Prob class 1: 0.38463276624679565\n",
            "Actual: 0 | Predicted: 0 | Prob class 1: 0.10761012136936188\n",
            "Actual: 0 | Predicted: 0 | Prob class 1: 0.00041825725929811597\n",
            "Actual: 0 | Predicted: 0 | Prob class 1: 1.8947227467536187e-11\n",
            "Actual: 0 | Predicted: 0 | Prob class 1: 0.05139928311109543\n",
            "Actual: 0 | Predicted: 0 | Prob class 1: 0.28218913078308105\n",
            "Actual: 0 | Predicted: 0 | Prob class 1: 0.07875508069992065\n",
            "Actual: 0 | Predicted: 0 | Prob class 1: 0.3215664327144623\n",
            "Actual: 0 | Predicted: 0 | Prob class 1: 0.24042533338069916\n",
            "Actual: 0 | Predicted: 0 | Prob class 1: 0.15418173372745514\n",
            "Actual: 0 | Predicted: 0 | Prob class 1: 0.48261377215385437\n",
            "Actual: 0 | Predicted: 0 | Prob class 1: 0.30787935853004456\n",
            "Actual: 0 | Predicted: 0 | Prob class 1: 0.493142306804657\n",
            "Actual: 0 | Predicted: 0 | Prob class 1: 0.45061931014060974\n",
            "Actual: 0 | Predicted: 0 | Prob class 1: 4.126624844502658e-06\n",
            "Actual: 0 | Predicted: 1 | Prob class 1: 0.9375789761543274\n",
            "Actual: 0 | Predicted: 0 | Prob class 1: 8.369922852580203e-07\n",
            "Actual: 0 | Predicted: 0 | Prob class 1: 0.27135223150253296\n",
            "Actual: 0 | Predicted: 0 | Prob class 1: 0.024942748248577118\n",
            "Actual: 0 | Predicted: 1 | Prob class 1: 0.8645527362823486\n",
            "Actual: 0 | Predicted: 1 | Prob class 1: 0.9747865200042725\n",
            "Actual: 0 | Predicted: 0 | Prob class 1: 0.12138061970472336\n",
            "Actual: 0 | Predicted: 0 | Prob class 1: 0.20697815716266632\n",
            "Actual: 0 | Predicted: 1 | Prob class 1: 0.9171950221061707\n",
            "Actual: 0 | Predicted: 1 | Prob class 1: 0.9112886786460876\n",
            "Actual: 0 | Predicted: 1 | Prob class 1: 0.8563565015792847\n",
            "Actual: 0 | Predicted: 0 | Prob class 1: 0.22615452110767365\n",
            "Actual: 0 | Predicted: 1 | Prob class 1: 0.9947565793991089\n",
            "Actual: 0 | Predicted: 0 | Prob class 1: 0.298767626285553\n",
            "Actual: 0 | Predicted: 0 | Prob class 1: 0.4759390354156494\n",
            "Actual: 0 | Predicted: 0 | Prob class 1: 0.062064237892627716\n",
            "Actual: 0 | Predicted: 0 | Prob class 1: 8.206756319850683e-06\n",
            "Actual: 0 | Predicted: 0 | Prob class 1: 0.47601377964019775\n",
            "Actual: 0 | Predicted: 0 | Prob class 1: 0.035980261862277985\n",
            "Actual: 0 | Predicted: 0 | Prob class 1: 0.27886518836021423\n",
            "Actual: 0 | Predicted: 0 | Prob class 1: 0.05899474769830704\n",
            "Actual: 0 | Predicted: 0 | Prob class 1: 0.0340389646589756\n",
            "Actual: 0 | Predicted: 0 | Prob class 1: 0.1505645215511322\n",
            "Actual: 0 | Predicted: 0 | Prob class 1: 0.3527717590332031\n",
            "Actual: 0 | Predicted: 0 | Prob class 1: 0.3330880105495453\n",
            "Actual: 0 | Predicted: 0 | Prob class 1: 0.28817546367645264\n",
            "Actual: 0 | Predicted: 0 | Prob class 1: 0.4472946524620056\n",
            "Actual: 0 | Predicted: 1 | Prob class 1: 0.5689265727996826\n",
            "Actual: 0 | Predicted: 0 | Prob class 1: 0.0020283947233110666\n",
            "Actual: 0 | Predicted: 0 | Prob class 1: 0.4961126744747162\n",
            "Actual: 0 | Predicted: 0 | Prob class 1: 0.4155561327934265\n",
            "Actual: 0 | Predicted: 0 | Prob class 1: 0.12630398571491241\n",
            "Actual: 0 | Predicted: 1 | Prob class 1: 0.8515751361846924\n",
            "Actual: 0 | Predicted: 0 | Prob class 1: 0.0021879966370761395\n",
            "Actual: 0 | Predicted: 0 | Prob class 1: 0.010597762651741505\n",
            "Actual: 0 | Predicted: 0 | Prob class 1: 0.15950825810432434\n",
            "Actual: 0 | Predicted: 0 | Prob class 1: 0.008219501934945583\n",
            "Actual: 0 | Predicted: 0 | Prob class 1: 0.08255484700202942\n",
            "Actual: 0 | Predicted: 0 | Prob class 1: 0.02505243569612503\n",
            "Actual: 0 | Predicted: 0 | Prob class 1: 3.197711339453235e-05\n",
            "Actual: 0 | Predicted: 0 | Prob class 1: 0.42474856972694397\n",
            "Actual: 0 | Predicted: 0 | Prob class 1: 0.06796412914991379\n",
            "Actual: 0 | Predicted: 0 | Prob class 1: 0.29281073808670044\n",
            "Actual: 0 | Predicted: 1 | Prob class 1: 0.8224952816963196\n",
            "Actual: 0 | Predicted: 0 | Prob class 1: 0.12935036420822144\n",
            "Actual: 0 | Predicted: 0 | Prob class 1: 0.22243010997772217\n",
            "Actual: 0 | Predicted: 1 | Prob class 1: 0.5997191667556763\n",
            "Actual: 0 | Predicted: 0 | Prob class 1: 0.17922194302082062\n",
            "Actual: 0 | Predicted: 0 | Prob class 1: 0.0038396120071411133\n",
            "Actual: 0 | Predicted: 1 | Prob class 1: 0.9306392073631287\n",
            "Actual: 0 | Predicted: 1 | Prob class 1: 0.970984160900116\n",
            "Actual: 0 | Predicted: 0 | Prob class 1: 9.16768767638132e-05\n",
            "Actual: 0 | Predicted: 0 | Prob class 1: 0.036196742206811905\n",
            "Actual: 0 | Predicted: 0 | Prob class 1: 7.868496322771534e-05\n",
            "Actual: 0 | Predicted: 0 | Prob class 1: 7.561088568763807e-05\n",
            "Actual: 0 | Predicted: 0 | Prob class 1: 0.18460506200790405\n",
            "Actual: 0 | Predicted: 0 | Prob class 1: 0.18090617656707764\n",
            "Actual: 0 | Predicted: 0 | Prob class 1: 0.49742749333381653\n",
            "Actual: 0 | Predicted: 0 | Prob class 1: 7.870497938711196e-06\n",
            "Actual: 0 | Predicted: 0 | Prob class 1: 0.1575705111026764\n",
            "Actual: 0 | Predicted: 0 | Prob class 1: 0.0023242835886776447\n",
            "Actual: 0 | Predicted: 0 | Prob class 1: 0.06350284069776535\n",
            "Actual: 0 | Predicted: 0 | Prob class 1: 0.050671838223934174\n",
            "Actual: 0 | Predicted: 1 | Prob class 1: 0.8217419385910034\n",
            "Actual: 0 | Predicted: 0 | Prob class 1: 8.079371764324605e-05\n",
            "Actual: 0 | Predicted: 0 | Prob class 1: 0.09734844416379929\n",
            "Actual: 0 | Predicted: 0 | Prob class 1: 0.126880943775177\n",
            "Actual: 0 | Predicted: 0 | Prob class 1: 1.0789758562168572e-06\n",
            "Actual: 0 | Predicted: 1 | Prob class 1: 0.5312557220458984\n",
            "Actual: 0 | Predicted: 0 | Prob class 1: 0.1187138706445694\n",
            "Actual: 0 | Predicted: 0 | Prob class 1: 6.808407306380104e-06\n",
            "Actual: 0 | Predicted: 0 | Prob class 1: 0.006356992293149233\n",
            "Actual: 0 | Predicted: 1 | Prob class 1: 0.5094724297523499\n",
            "Actual: 0 | Predicted: 0 | Prob class 1: 0.0005123426089994609\n",
            "Actual: 0 | Predicted: 0 | Prob class 1: 0.2794172465801239\n",
            "Actual: 0 | Predicted: 0 | Prob class 1: 0.3284030854701996\n",
            "Actual: 0 | Predicted: 1 | Prob class 1: 0.522443950176239\n",
            "Actual: 0 | Predicted: 0 | Prob class 1: 0.03990717604756355\n",
            "Actual: 0 | Predicted: 0 | Prob class 1: 1.3487448995874729e-05\n",
            "Actual: 0 | Predicted: 0 | Prob class 1: 0.008906694129109383\n",
            "Actual: 0 | Predicted: 0 | Prob class 1: 0.41153067350387573\n",
            "Actual: 0 | Predicted: 0 | Prob class 1: 2.0382516595418565e-05\n",
            "Actual: 0 | Predicted: 1 | Prob class 1: 0.8197568655014038\n",
            "Actual: 0 | Predicted: 0 | Prob class 1: 2.4461987777613103e-06\n",
            "Actual: 0 | Predicted: 0 | Prob class 1: 6.607350223930553e-05\n",
            "Actual: 0 | Predicted: 0 | Prob class 1: 0.02811248227953911\n",
            "Actual: 0 | Predicted: 0 | Prob class 1: 0.0019886502996087074\n",
            "Actual: 0 | Predicted: 0 | Prob class 1: 0.02690664306282997\n",
            "Actual: 0 | Predicted: 0 | Prob class 1: 0.3021436631679535\n",
            "Actual: 0 | Predicted: 0 | Prob class 1: 0.09543077647686005\n",
            "Actual: 0 | Predicted: 0 | Prob class 1: 0.09322208911180496\n",
            "Actual: 0 | Predicted: 0 | Prob class 1: 0.002078141551464796\n",
            "Actual: 0 | Predicted: 0 | Prob class 1: 2.6826372049981728e-05\n",
            "Actual: 0 | Predicted: 0 | Prob class 1: 2.3654245069337776e-06\n",
            "Actual: 0 | Predicted: 0 | Prob class 1: 0.000404847611207515\n",
            "Actual: 0 | Predicted: 0 | Prob class 1: 0.00040437388815917075\n",
            "Actual: 0 | Predicted: 0 | Prob class 1: 2.8574728275998496e-05\n",
            "Actual: 0 | Predicted: 0 | Prob class 1: 2.4444810620138924e-08\n",
            "Actual: 0 | Predicted: 0 | Prob class 1: 3.540335092111491e-05\n",
            "Actual: 0 | Predicted: 0 | Prob class 1: 0.014818214811384678\n",
            "Actual: 0 | Predicted: 0 | Prob class 1: 0.09908024221658707\n",
            "Actual: 0 | Predicted: 0 | Prob class 1: 2.2014476908083225e-09\n",
            "Actual: 0 | Predicted: 0 | Prob class 1: 0.0038702553138136864\n",
            "Actual: 0 | Predicted: 1 | Prob class 1: 0.9023672342300415\n",
            "Actual: 0 | Predicted: 0 | Prob class 1: 0.14536088705062866\n",
            "Actual: 0 | Predicted: 0 | Prob class 1: 0.2089952528476715\n",
            "Actual: 0 | Predicted: 0 | Prob class 1: 0.0005936379893682897\n",
            "Actual: 0 | Predicted: 0 | Prob class 1: 0.001704717637039721\n",
            "Actual: 0 | Predicted: 0 | Prob class 1: 0.2412796914577484\n",
            "Actual: 0 | Predicted: 1 | Prob class 1: 0.7981509566307068\n",
            "Actual: 0 | Predicted: 0 | Prob class 1: 0.16644693911075592\n",
            "Actual: 0 | Predicted: 0 | Prob class 1: 0.35202282667160034\n",
            "Actual: 0 | Predicted: 0 | Prob class 1: 0.45192664861679077\n",
            "Actual: 0 | Predicted: 0 | Prob class 1: 0.36928609013557434\n",
            "Actual: 0 | Predicted: 0 | Prob class 1: 0.07559198886156082\n",
            "Actual: 0 | Predicted: 0 | Prob class 1: 0.4221017062664032\n",
            "Actual: 0 | Predicted: 0 | Prob class 1: 0.011789025738835335\n",
            "Actual: 0 | Predicted: 1 | Prob class 1: 0.5167096853256226\n",
            "Actual: 0 | Predicted: 0 | Prob class 1: 0.00901302881538868\n",
            "Actual: 0 | Predicted: 0 | Prob class 1: 0.009026134386658669\n",
            "Actual: 0 | Predicted: 1 | Prob class 1: 0.8126928806304932\n",
            "Actual: 0 | Predicted: 0 | Prob class 1: 0.005434795748442411\n",
            "Actual: 0 | Predicted: 0 | Prob class 1: 0.145557701587677\n",
            "Actual: 0 | Predicted: 1 | Prob class 1: 0.8360781073570251\n",
            "Actual: 0 | Predicted: 0 | Prob class 1: 0.405148446559906\n",
            "Actual: 0 | Predicted: 0 | Prob class 1: 0.0590384416282177\n",
            "Actual: 0 | Predicted: 0 | Prob class 1: 0.019428377971053123\n",
            "Actual: 0 | Predicted: 0 | Prob class 1: 0.0016480780905112624\n",
            "Actual: 0 | Predicted: 0 | Prob class 1: 0.4196532964706421\n",
            "Actual: 0 | Predicted: 0 | Prob class 1: 0.0552389919757843\n",
            "Actual: 0 | Predicted: 0 | Prob class 1: 0.005479274783283472\n",
            "Actual: 0 | Predicted: 1 | Prob class 1: 0.5605724453926086\n",
            "Actual: 0 | Predicted: 0 | Prob class 1: 0.0013150195591151714\n",
            "Actual: 0 | Predicted: 0 | Prob class 1: 0.20762428641319275\n",
            "Actual: 0 | Predicted: 0 | Prob class 1: 0.01832648366689682\n",
            "Actual: 0 | Predicted: 0 | Prob class 1: 0.0030555485282093287\n",
            "Actual: 0 | Predicted: 0 | Prob class 1: 0.10218683630228043\n",
            "Actual: 0 | Predicted: 0 | Prob class 1: 0.34630313515663147\n",
            "Actual: 0 | Predicted: 0 | Prob class 1: 6.64731051074341e-05\n",
            "Actual: 0 | Predicted: 0 | Prob class 1: 0.2035645991563797\n",
            "Actual: 0 | Predicted: 1 | Prob class 1: 0.6901922821998596\n",
            "Actual: 0 | Predicted: 0 | Prob class 1: 0.021008681505918503\n",
            "Actual: 0 | Predicted: 0 | Prob class 1: 0.04546660557389259\n",
            "Actual: 0 | Predicted: 0 | Prob class 1: 0.00819267425686121\n",
            "Actual: 0 | Predicted: 0 | Prob class 1: 0.09017957746982574\n",
            "Actual: 0 | Predicted: 0 | Prob class 1: 0.24493369460105896\n",
            "Actual: 0 | Predicted: 1 | Prob class 1: 0.8292607069015503\n",
            "Actual: 0 | Predicted: 0 | Prob class 1: 0.009567751549184322\n",
            "Actual: 0 | Predicted: 0 | Prob class 1: 0.05022069811820984\n",
            "Actual: 0 | Predicted: 1 | Prob class 1: 0.5998313426971436\n",
            "Actual: 0 | Predicted: 0 | Prob class 1: 0.023911355063319206\n",
            "Actual: 0 | Predicted: 1 | Prob class 1: 0.8220835328102112\n",
            "Actual: 1 | Predicted: 0 | Prob class 1: 0.007900116965174675\n",
            "Actual: 1 | Predicted: 1 | Prob class 1: 0.8604119420051575\n",
            "Actual: 1 | Predicted: 0 | Prob class 1: 0.14542034268379211\n",
            "Actual: 1 | Predicted: 0 | Prob class 1: 0.20249702036380768\n",
            "Actual: 1 | Predicted: 1 | Prob class 1: 0.8402345776557922\n",
            "Actual: 1 | Predicted: 0 | Prob class 1: 0.007998294197022915\n",
            "Actual: 1 | Predicted: 0 | Prob class 1: 0.13537350296974182\n",
            "Actual: 1 | Predicted: 0 | Prob class 1: 0.021342359483242035\n",
            "Actual: 1 | Predicted: 0 | Prob class 1: 1.263976978638226e-10\n",
            "Actual: 1 | Predicted: 1 | Prob class 1: 0.9956627488136292\n",
            "Actual: 1 | Predicted: 1 | Prob class 1: 0.9991255402565002\n",
            "Actual: 1 | Predicted: 0 | Prob class 1: 0.193459153175354\n",
            "Actual: 1 | Predicted: 1 | Prob class 1: 0.9956627488136292\n",
            "Actual: 1 | Predicted: 1 | Prob class 1: 0.8889114856719971\n",
            "Actual: 1 | Predicted: 0 | Prob class 1: 0.25141504406929016\n",
            "Actual: 1 | Predicted: 1 | Prob class 1: 0.9936944842338562\n",
            "Actual: 1 | Predicted: 1 | Prob class 1: 0.9997108578681946\n",
            "Actual: 1 | Predicted: 1 | Prob class 1: 0.9971713423728943\n",
            "Actual: 1 | Predicted: 0 | Prob class 1: 0.043089110404253006\n",
            "Actual: 1 | Predicted: 0 | Prob class 1: 0.043089110404253006\n",
            "Actual: 1 | Predicted: 1 | Prob class 1: 0.9999985694885254\n",
            "Actual: 1 | Predicted: 1 | Prob class 1: 0.9631960988044739\n",
            "Actual: 1 | Predicted: 0 | Prob class 1: 0.09791965782642365\n",
            "Actual: 1 | Predicted: 0 | Prob class 1: 0.15479084849357605\n",
            "Actual: 1 | Predicted: 1 | Prob class 1: 0.9996339082717896\n",
            "Actual: 1 | Predicted: 0 | Prob class 1: 1.247445084118226e-06\n",
            "Actual: 1 | Predicted: 1 | Prob class 1: 0.8133872747421265\n",
            "Actual: 1 | Predicted: 0 | Prob class 1: 0.2860729396343231\n",
            "Actual: 1 | Predicted: 0 | Prob class 1: 0.16281390190124512\n",
            "Actual: 1 | Predicted: 0 | Prob class 1: 1.1735476618923713e-05\n",
            "Actual: 1 | Predicted: 0 | Prob class 1: 7.528708010795526e-06\n",
            "Actual: 1 | Predicted: 1 | Prob class 1: 0.9948559999465942\n",
            "Actual: 1 | Predicted: 0 | Prob class 1: 0.06641111522912979\n",
            "Actual: 1 | Predicted: 1 | Prob class 1: 0.985431432723999\n",
            "Actual: 1 | Predicted: 0 | Prob class 1: 0.0800766795873642\n",
            "Actual: 1 | Predicted: 1 | Prob class 1: 0.9904868006706238\n",
            "Actual: 1 | Predicted: 0 | Prob class 1: 0.35049062967300415\n",
            "Actual: 1 | Predicted: 1 | Prob class 1: 0.9880571365356445\n",
            "Actual: 1 | Predicted: 0 | Prob class 1: 0.0014969499316066504\n",
            "Actual: 1 | Predicted: 1 | Prob class 1: 0.8832703232765198\n",
            "Actual: 1 | Predicted: 0 | Prob class 1: 0.0006255771149881184\n",
            "Actual: 1 | Predicted: 0 | Prob class 1: 0.11122576892375946\n",
            "Actual: 1 | Predicted: 1 | Prob class 1: 0.9642243385314941\n",
            "Actual: 1 | Predicted: 0 | Prob class 1: 2.082703576888889e-05\n",
            "Actual: 1 | Predicted: 1 | Prob class 1: 0.7556576132774353\n",
            "Actual: 1 | Predicted: 0 | Prob class 1: 3.3831882319645956e-05\n",
            "Actual: 1 | Predicted: 1 | Prob class 1: 0.9622505903244019\n",
            "Actual: 1 | Predicted: 1 | Prob class 1: 0.6354100108146667\n",
            "Actual: 1 | Predicted: 1 | Prob class 1: 0.8214375972747803\n",
            "Actual: 1 | Predicted: 0 | Prob class 1: 9.938000584952533e-05\n",
            "Actual: 1 | Predicted: 1 | Prob class 1: 0.993746280670166\n",
            "Actual: 1 | Predicted: 1 | Prob class 1: 0.9996212720870972\n",
            "Actual: 1 | Predicted: 0 | Prob class 1: 0.013551061041653156\n",
            "Actual: 1 | Predicted: 1 | Prob class 1: 0.9999837875366211\n",
            "Actual: 1 | Predicted: 1 | Prob class 1: 0.5689342021942139\n",
            "Actual: 1 | Predicted: 1 | Prob class 1: 0.7906550168991089\n",
            "Actual: 1 | Predicted: 0 | Prob class 1: 0.2765871286392212\n",
            "Actual: 1 | Predicted: 0 | Prob class 1: 0.0027358487714082003\n",
            "Actual: 1 | Predicted: 1 | Prob class 1: 0.9941260814666748\n",
            "Actual: 1 | Predicted: 0 | Prob class 1: 0.22668878734111786\n",
            "Actual: 1 | Predicted: 1 | Prob class 1: 0.995032787322998\n",
            "Actual: 1 | Predicted: 0 | Prob class 1: 0.19636858999729156\n",
            "Actual: 1 | Predicted: 1 | Prob class 1: 0.9842460751533508\n",
            "Actual: 1 | Predicted: 1 | Prob class 1: 0.993286669254303\n",
            "Actual: 1 | Predicted: 1 | Prob class 1: 0.9995695948600769\n",
            "Actual: 1 | Predicted: 0 | Prob class 1: 8.580740882280224e-07\n",
            "Actual: 1 | Predicted: 1 | Prob class 1: 0.9960173964500427\n",
            "Actual: 1 | Predicted: 1 | Prob class 1: 0.9999879598617554\n",
            "Actual: 1 | Predicted: 0 | Prob class 1: 0.008031543344259262\n",
            "Actual: 1 | Predicted: 0 | Prob class 1: 4.1277569835074246e-05\n",
            "Actual: 1 | Predicted: 1 | Prob class 1: 0.9512505531311035\n",
            "Actual: 1 | Predicted: 0 | Prob class 1: 0.16051813960075378\n",
            "Actual: 1 | Predicted: 1 | Prob class 1: 0.5852042436599731\n",
            "Actual: 1 | Predicted: 0 | Prob class 1: 1.4752038168808213e-06\n",
            "Actual: 1 | Predicted: 0 | Prob class 1: 0.1179310753941536\n",
            "Actual: 1 | Predicted: 1 | Prob class 1: 0.9805644154548645\n",
            "Actual: 1 | Predicted: 0 | Prob class 1: 0.0008886784198693931\n",
            "Actual: 1 | Predicted: 0 | Prob class 1: 6.210086667124415e-09\n",
            "Actual: 1 | Predicted: 1 | Prob class 1: 0.7770528793334961\n",
            "Actual: 1 | Predicted: 1 | Prob class 1: 0.8540963530540466\n",
            "Actual: 1 | Predicted: 1 | Prob class 1: 0.998994767665863\n",
            "Actual: 1 | Predicted: 0 | Prob class 1: 0.03427153825759888\n",
            "Actual: 1 | Predicted: 1 | Prob class 1: 0.9912588000297546\n",
            "Actual: 1 | Predicted: 1 | Prob class 1: 0.9902812242507935\n",
            "Actual: 1 | Predicted: 0 | Prob class 1: 0.013551061041653156\n",
            "Actual: 1 | Predicted: 1 | Prob class 1: 0.7137459516525269\n",
            "Actual: 1 | Predicted: 1 | Prob class 1: 0.9981216788291931\n",
            "Actual: 1 | Predicted: 0 | Prob class 1: 0.0002784827374853194\n",
            "Actual: 1 | Predicted: 0 | Prob class 1: 2.548749398556538e-05\n",
            "Actual: 1 | Predicted: 1 | Prob class 1: 0.5064998269081116\n",
            "Actual: 1 | Predicted: 0 | Prob class 1: 0.06994984298944473\n",
            "Actual: 1 | Predicted: 0 | Prob class 1: 0.3048844337463379\n",
            "Actual: 1 | Predicted: 0 | Prob class 1: 0.2697431445121765\n",
            "Actual: 1 | Predicted: 1 | Prob class 1: 0.7916854023933411\n",
            "Actual: 1 | Predicted: 0 | Prob class 1: 0.038506314158439636\n",
            "Actual: 1 | Predicted: 1 | Prob class 1: 0.7221789360046387\n",
            "Actual: 1 | Predicted: 0 | Prob class 1: 5.1802762754959986e-05\n",
            "Actual: 1 | Predicted: 1 | Prob class 1: 0.9657487869262695\n",
            "Actual: 1 | Predicted: 1 | Prob class 1: 0.9997836947441101\n",
            "Actual: 1 | Predicted: 1 | Prob class 1: 0.999976396560669\n",
            "Actual: 1 | Predicted: 0 | Prob class 1: 0.39956405758857727\n",
            "Actual: 1 | Predicted: 1 | Prob class 1: 0.9992893934249878\n",
            "Actual: 1 | Predicted: 1 | Prob class 1: 0.9345800280570984\n",
            "Actual: 1 | Predicted: 0 | Prob class 1: 2.548749398556538e-05\n",
            "Actual: 1 | Predicted: 1 | Prob class 1: 0.9603058695793152\n",
            "Actual: 1 | Predicted: 0 | Prob class 1: 0.13254748284816742\n",
            "[[156  30]\n",
            " [ 52  54]]\n",
            "accuracy_score: 0.7191780821917808\n",
            "precision_score: 0.6428571428571429\n",
            "recall_score: 0.5094339622641509\n"
          ]
        }
      ],
      "source": [
        "evaluate_final(best_model, img_scaling, label_list)"
      ],
      "id": "gOoqLKtRfzZ-"
    },
    {
      "cell_type": "markdown",
      "source": [
        "# Example result from model (Testing Set)"
      ],
      "metadata": {
        "id": "G2IImuVvtRqx"
      },
      "id": "G2IImuVvtRqx"
    },
    {
      "cell_type": "code",
      "source": [
        "probability_model = tf.keras.Sequential([\n",
        "                                         best_model,\n",
        "                                         tf.keras.layers.Softmax()])"
      ],
      "metadata": {
        "id": "xD75zhT6taVA"
      },
      "id": "xD75zhT6taVA",
      "execution_count": 26,
      "outputs": []
    },
    {
      "cell_type": "code",
      "source": [
        "prediction_jp_test = probability_model(sample_test_jp_test.reshape(1, h, w, 3)).numpy()\n",
        "prediction_th_test = probability_model(sample_test_th_test.reshape(1, h, w, 3)).numpy()\n",
        "prediction_eu_test = probability_model(sample_test_eu_test.reshape(1, h, w, 3)).numpy()"
      ],
      "metadata": {
        "id": "nAA1hWVWtoov"
      },
      "id": "nAA1hWVWtoov",
      "execution_count": 27,
      "outputs": []
    },
    {
      "cell_type": "code",
      "source": [
        "prediction_jp_test"
      ],
      "metadata": {
        "colab": {
          "base_uri": "https://localhost:8080/"
        },
        "id": "InCVKoGjtY85",
        "outputId": "b6bbed1c-d15a-4874-ee44-2d8d2fab2833"
      },
      "id": "InCVKoGjtY85",
      "execution_count": 28,
      "outputs": [
        {
          "output_type": "execute_result",
          "data": {
            "text/plain": [
              "array([[0.01067771, 0.98932225]], dtype=float32)"
            ]
          },
          "metadata": {},
          "execution_count": 28
        }
      ]
    },
    {
      "cell_type": "code",
      "source": [
        "prediction_th_test"
      ],
      "metadata": {
        "colab": {
          "base_uri": "https://localhost:8080/"
        },
        "id": "ivzBbwVKxohT",
        "outputId": "70ed4a2c-8fbc-46f9-ef26-8e99001e6def"
      },
      "id": "ivzBbwVKxohT",
      "execution_count": 29,
      "outputs": [
        {
          "output_type": "execute_result",
          "data": {
            "text/plain": [
              "array([[0.89694893, 0.10305109]], dtype=float32)"
            ]
          },
          "metadata": {},
          "execution_count": 29
        }
      ]
    },
    {
      "cell_type": "code",
      "source": [
        "prediction_eu_test"
      ],
      "metadata": {
        "colab": {
          "base_uri": "https://localhost:8080/"
        },
        "id": "fcfMxFpUxoj7",
        "outputId": "daf17c52-5265-42df-ed9d-1ef3b2b7bea4"
      },
      "id": "fcfMxFpUxoj7",
      "execution_count": 30,
      "outputs": [
        {
          "output_type": "execute_result",
          "data": {
            "text/plain": [
              "array([[0.9579153 , 0.04208468]], dtype=float32)"
            ]
          },
          "metadata": {},
          "execution_count": 30
        }
      ]
    },
    {
      "cell_type": "markdown",
      "source": [
        "# Example result from model (Validation Set)"
      ],
      "metadata": {
        "id": "BiM5MgA3tLGK"
      },
      "id": "BiM5MgA3tLGK"
    },
    {
      "cell_type": "code",
      "execution_count": 31,
      "metadata": {
        "id": "dI70qgVCHYyG"
      },
      "outputs": [],
      "source": [
        "prediction_jp = probability_model(sample_test_jp.reshape(1, h, w, 3)).numpy()\n",
        "prediction_th = probability_model(sample_test_th.reshape(1, h, w, 3)).numpy()"
      ],
      "id": "dI70qgVCHYyG"
    },
    {
      "cell_type": "code",
      "source": [
        "prediction_jp"
      ],
      "metadata": {
        "colab": {
          "base_uri": "https://localhost:8080/"
        },
        "id": "YI9Rg5LJAP77",
        "outputId": "25dac5dd-93b6-42bb-b634-adc9f0b6666d"
      },
      "id": "YI9Rg5LJAP77",
      "execution_count": 32,
      "outputs": [
        {
          "output_type": "execute_result",
          "data": {
            "text/plain": [
              "array([[0.00282872, 0.99717134]], dtype=float32)"
            ]
          },
          "metadata": {},
          "execution_count": 32
        }
      ]
    },
    {
      "cell_type": "code",
      "source": [
        "prediction_th"
      ],
      "metadata": {
        "colab": {
          "base_uri": "https://localhost:8080/"
        },
        "id": "41MLCNU0AP-u",
        "outputId": "3729a991-4a51-4937-f6cf-a55724fa2b64"
      },
      "id": "41MLCNU0AP-u",
      "execution_count": 33,
      "outputs": [
        {
          "output_type": "execute_result",
          "data": {
            "text/plain": [
              "array([[9.9999213e-01, 7.8705061e-06]], dtype=float32)"
            ]
          },
          "metadata": {},
          "execution_count": 33
        }
      ]
    }
  ],
  "metadata": {
    "accelerator": "GPU",
    "colab": {
      "collapsed_sections": [
        "llXMxW0WA36R"
      ],
      "machine_shape": "hm",
      "name": "CNN_test_for_validation_new.ipynb",
      "provenance": [],
      "toc_visible": true
    },
    "kernelspec": {
      "display_name": "Python 3",
      "language": "python",
      "name": "python3"
    },
    "language_info": {
      "codemirror_mode": {
        "name": "ipython",
        "version": 3
      },
      "file_extension": ".py",
      "mimetype": "text/x-python",
      "name": "python",
      "nbconvert_exporter": "python",
      "pygments_lexer": "ipython3",
      "version": "3.8.8"
    }
  },
  "nbformat": 4,
  "nbformat_minor": 5
}